{
 "cells": [
  {
   "cell_type": "code",
   "execution_count": 1,
   "metadata": {},
   "outputs": [],
   "source": [
    "import pandas as pd\n",
    "import numpy as np\n",
    "from sklearn.model_selection import cross_validate, GridSearchCV\n",
    "from sklearn.tree import DecisionTreeRegressor, export_graphviz\n",
    "from sklearn.neighbors import KNeighborsClassifier\n",
    "from sklearn.linear_model import LogisticRegression\n",
    "from sklearn.preprocessing import LabelEncoder\n",
    "from sklearn.metrics import mean_squared_error, r2_score\n",
    "from sklearn.ensemble import BaggingRegressor, RandomForestRegressor, GradientBoostingRegressor\n",
    "import matplotlib.pyplot as plt\n",
    "import graphviz\n",
    "%matplotlib inline"
   ]
  },
  {
   "cell_type": "code",
   "execution_count": 2,
   "metadata": {},
   "outputs": [
    {
     "data": {
      "text/html": [
       "<div>\n",
       "<style scoped>\n",
       "    .dataframe tbody tr th:only-of-type {\n",
       "        vertical-align: middle;\n",
       "    }\n",
       "\n",
       "    .dataframe tbody tr th {\n",
       "        vertical-align: top;\n",
       "    }\n",
       "\n",
       "    .dataframe thead th {\n",
       "        text-align: right;\n",
       "    }\n",
       "</style>\n",
       "<table border=\"1\" class=\"dataframe\">\n",
       "  <thead>\n",
       "    <tr style=\"text-align: right;\">\n",
       "      <th></th>\n",
       "      <th>fixed acidity</th>\n",
       "      <th>volatile acidity</th>\n",
       "      <th>citric acid</th>\n",
       "      <th>residual sugar</th>\n",
       "      <th>chlorides</th>\n",
       "      <th>free sulfur dioxide</th>\n",
       "      <th>total sulfur dioxide</th>\n",
       "      <th>density</th>\n",
       "      <th>pH</th>\n",
       "      <th>sulphates</th>\n",
       "      <th>alcohol</th>\n",
       "      <th>quality</th>\n",
       "    </tr>\n",
       "  </thead>\n",
       "  <tbody>\n",
       "    <tr>\n",
       "      <th>0</th>\n",
       "      <td>7.4</td>\n",
       "      <td>0.70</td>\n",
       "      <td>0.00</td>\n",
       "      <td>1.9</td>\n",
       "      <td>0.076</td>\n",
       "      <td>11.0</td>\n",
       "      <td>34.0</td>\n",
       "      <td>0.9978</td>\n",
       "      <td>3.51</td>\n",
       "      <td>0.56</td>\n",
       "      <td>9.4</td>\n",
       "      <td>5</td>\n",
       "    </tr>\n",
       "    <tr>\n",
       "      <th>1</th>\n",
       "      <td>7.8</td>\n",
       "      <td>0.88</td>\n",
       "      <td>0.00</td>\n",
       "      <td>2.6</td>\n",
       "      <td>0.098</td>\n",
       "      <td>25.0</td>\n",
       "      <td>67.0</td>\n",
       "      <td>0.9968</td>\n",
       "      <td>3.20</td>\n",
       "      <td>0.68</td>\n",
       "      <td>9.8</td>\n",
       "      <td>5</td>\n",
       "    </tr>\n",
       "    <tr>\n",
       "      <th>2</th>\n",
       "      <td>7.8</td>\n",
       "      <td>0.76</td>\n",
       "      <td>0.04</td>\n",
       "      <td>2.3</td>\n",
       "      <td>0.092</td>\n",
       "      <td>15.0</td>\n",
       "      <td>54.0</td>\n",
       "      <td>0.9970</td>\n",
       "      <td>3.26</td>\n",
       "      <td>0.65</td>\n",
       "      <td>9.8</td>\n",
       "      <td>5</td>\n",
       "    </tr>\n",
       "    <tr>\n",
       "      <th>3</th>\n",
       "      <td>11.2</td>\n",
       "      <td>0.28</td>\n",
       "      <td>0.56</td>\n",
       "      <td>1.9</td>\n",
       "      <td>0.075</td>\n",
       "      <td>17.0</td>\n",
       "      <td>60.0</td>\n",
       "      <td>0.9980</td>\n",
       "      <td>3.16</td>\n",
       "      <td>0.58</td>\n",
       "      <td>9.8</td>\n",
       "      <td>6</td>\n",
       "    </tr>\n",
       "    <tr>\n",
       "      <th>4</th>\n",
       "      <td>7.4</td>\n",
       "      <td>0.70</td>\n",
       "      <td>0.00</td>\n",
       "      <td>1.9</td>\n",
       "      <td>0.076</td>\n",
       "      <td>11.0</td>\n",
       "      <td>34.0</td>\n",
       "      <td>0.9978</td>\n",
       "      <td>3.51</td>\n",
       "      <td>0.56</td>\n",
       "      <td>9.4</td>\n",
       "      <td>5</td>\n",
       "    </tr>\n",
       "  </tbody>\n",
       "</table>\n",
       "</div>"
      ],
      "text/plain": [
       "   fixed acidity  volatile acidity  citric acid  residual sugar  chlorides  \\\n",
       "0            7.4              0.70         0.00             1.9      0.076   \n",
       "1            7.8              0.88         0.00             2.6      0.098   \n",
       "2            7.8              0.76         0.04             2.3      0.092   \n",
       "3           11.2              0.28         0.56             1.9      0.075   \n",
       "4            7.4              0.70         0.00             1.9      0.076   \n",
       "\n",
       "   free sulfur dioxide  total sulfur dioxide  density    pH  sulphates  \\\n",
       "0                 11.0                  34.0   0.9978  3.51       0.56   \n",
       "1                 25.0                  67.0   0.9968  3.20       0.68   \n",
       "2                 15.0                  54.0   0.9970  3.26       0.65   \n",
       "3                 17.0                  60.0   0.9980  3.16       0.58   \n",
       "4                 11.0                  34.0   0.9978  3.51       0.56   \n",
       "\n",
       "   alcohol  quality  \n",
       "0      9.4        5  \n",
       "1      9.8        5  \n",
       "2      9.8        5  \n",
       "3      9.8        6  \n",
       "4      9.4        5  "
      ]
     },
     "execution_count": 2,
     "metadata": {},
     "output_type": "execute_result"
    }
   ],
   "source": [
    "df = pd.read_csv('./Wine_red.csv',sep=';')\n",
    "df.head()"
   ]
  },
  {
   "cell_type": "code",
   "execution_count": 3,
   "metadata": {},
   "outputs": [],
   "source": [
    "df_test = df.sample(frac=0.2,replace=False,random_state=0).copy()\n",
    "df_train = df.drop(df_test.index).copy()\n",
    "\n",
    "features_train = df_train.drop('quality',axis=1)\n",
    "features_test = df_test.drop('quality',axis=1)\n",
    "\n",
    "target_train = df_train.quality\n",
    "target_test = df_test.quality"
   ]
  },
  {
   "cell_type": "code",
   "execution_count": 4,
   "metadata": {},
   "outputs": [
    {
     "name": "stdout",
     "output_type": "stream",
     "text": [
      "stage 1\n",
      "train R2 =  0.271 test R2 =  0.204\n"
     ]
    }
   ],
   "source": [
    "# Stage 1\n",
    "tree1 = DecisionTreeRegressor(max_depth=2)\n",
    "tree1.fit(features_train,target_train)\n",
    "target_train_predict = tree1.predict(features_train)\n",
    "target_test_predict = tree1.predict(features_test)\n",
    "R2_train = r2_score(target_train,target_train_predict)\n",
    "R2_test = r2_score(target_test,target_test_predict)\n",
    "print('stage 1')\n",
    "print('train R2 = ', R2_train.round(3), 'test R2 = ', R2_test.round(3))"
   ]
  },
  {
   "cell_type": "markdown",
   "metadata": {},
   "source": [
    "Likely that it's underfitting"
   ]
  },
  {
   "cell_type": "code",
   "execution_count": 5,
   "metadata": {},
   "outputs": [
    {
     "name": "stdout",
     "output_type": "stream",
     "text": [
      "stage 2\n",
      "train R2 =  0.343 test R2 =  0.235\n"
     ]
    }
   ],
   "source": [
    "# Stage 2\n",
    "tree2 = DecisionTreeRegressor(max_depth=2)\n",
    "target_train_residuals=target_train - tree1.predict(features_train)\n",
    "tree2.fit(features_train,target_train_residuals)\n",
    "\n",
    "target_train_predict = tree1.predict(features_train) + tree2.predict(features_train)\n",
    "target_test_predict = tree1.predict(features_test) + tree2.predict(features_test)\n",
    "R2_train = r2_score(target_train,target_train_predict)\n",
    "R2_test = r2_score(target_test,target_test_predict)\n",
    "print('stage 2')\n",
    "print('train R2 = ', R2_train.round(3), 'test R2 = ', R2_test.round(3))"
   ]
  },
  {
   "cell_type": "markdown",
   "metadata": {},
   "source": [
    "Slight improvement from stage 1"
   ]
  },
  {
   "cell_type": "code",
   "execution_count": 6,
   "metadata": {},
   "outputs": [
    {
     "name": "stdout",
     "output_type": "stream",
     "text": [
      "stage 3\n",
      "train R2 =  0.372 test R2 =  0.249\n"
     ]
    }
   ],
   "source": [
    "# Stage 3\n",
    "tree3 = DecisionTreeRegressor(max_depth=2)\n",
    "target_train_residuals=target_train - tree1.predict(features_train) - tree2.predict(features_train)\n",
    "tree3.fit(features_train,target_train_residuals)\n",
    "\n",
    "target_train_predict = tree1.predict(features_train) + tree2.predict(features_train) + tree3.predict(features_train)\n",
    "target_test_predict = tree1.predict(features_test) + tree2.predict(features_test) + tree3.predict(features_test)\n",
    "R2_train = r2_score(target_train,target_train_predict)\n",
    "R2_test = r2_score(target_test,target_test_predict)\n",
    "print('stage 3')\n",
    "print('train R2 = ', R2_train.round(3), 'test R2 = ', R2_test.round(3))"
   ]
  },
  {
   "cell_type": "markdown",
   "metadata": {},
   "source": [
    "Still getting better"
   ]
  },
  {
   "cell_type": "code",
   "execution_count": 7,
   "metadata": {},
   "outputs": [
    {
     "name": "stdout",
     "output_type": "stream",
     "text": [
      "train R2 =  0.271\n",
      "train R2 =  0.343\n",
      "train R2 =  0.372\n"
     ]
    }
   ],
   "source": [
    "gbt = GradientBoostingRegressor(max_depth=2,n_estimators=3,learning_rate=1.0)\n",
    "gbt.fit(features_train,target_train)\n",
    "for target_train_predict in gbt.staged_predict(features_train):\n",
    "    R2_train = r2_score(target_train,target_train_predict)\n",
    "    print('train R2 = ',R2_train.round(3))"
   ]
  },
  {
   "cell_type": "markdown",
   "metadata": {},
   "source": [
    "Note that this is the same result as Stages 1-3 for the train R2"
   ]
  },
  {
   "cell_type": "code",
   "execution_count": 9,
   "metadata": {},
   "outputs": [
    {
     "name": "stdout",
     "output_type": "stream",
     "text": [
      "train R2 =  0.204\n",
      "train R2 =  0.235\n",
      "train R2 =  0.249\n"
     ]
    }
   ],
   "source": [
    "gbt = GradientBoostingRegressor(max_depth=2,n_estimators=3,learning_rate=1.0)\n",
    "gbt.fit(features_train,target_train)\n",
    "for target_test_predict in gbt.staged_predict(features_test):\n",
    "    R2_train = r2_score(target_test,target_test_predict)\n",
    "    print('test R2 = ',R2_train.round(3))"
   ]
  },
  {
   "cell_type": "markdown",
   "metadata": {},
   "source": [
    "This is the same as Stages 1-3 test R2"
   ]
  },
  {
   "cell_type": "code",
   "execution_count": 16,
   "metadata": {},
   "outputs": [
    {
     "data": {
      "text/plain": [
       "<matplotlib.axes._subplots.AxesSubplot at 0x1aa8c7592b0>"
      ]
     },
     "execution_count": 16,
     "metadata": {},
     "output_type": "execute_result"
    },
    {
     "data": {
      "image/png": "[encoded data removed]",
      "text/plain": [
       "<Figure size 432x288 with 1 Axes>"
      ]
     },
     "metadata": {
      "needs_background": "light"
     },
     "output_type": "display_data"
    }
   ],
   "source": [
    "n_trees = 2000\n",
    "depth = 5\n",
    "\n",
    "gbt = GradientBoostingRegressor(max_depth=depth,n_estimators=n_trees,learning_rate=0.01)\n",
    "gbt.fit(features_train,target_train)\n",
    "\n",
    "n_tree = []\n",
    "R2_train = []\n",
    "R2_test = []\n",
    "\n",
    "target_train_predict = iter(gbt.staged_predict(features_train))\n",
    "target_test_predict = iter(gbt.staged_predict(features_test))\n",
    "\n",
    "for k in range(n_trees):\n",
    "    n_tree.append(k+1)\n",
    "    R2_train.append(r2_score(target_train,next(target_train_predict)))\n",
    "    R2_test.append(r2_score(target_test,next(target_test_predict)))\n",
    "    \n",
    "performance = pd.DataFrame()\n",
    "performance['n_tree'] = n_tree\n",
    "performance['train R2'] = R2_train\n",
    "performance['test R2'] = R2_test\n",
    "\n",
    "ax1 = performance.plot.line(x='n_tree',y='train R2')\n",
    "performance.plot.line(x='n_tree',y='test R2',ax=ax1)"
   ]
  },
  {
   "cell_type": "markdown",
   "metadata": {},
   "source": [
    "Still overfitting with depth of 20, better with a depth of 5"
   ]
  },
  {
   "cell_type": "code",
   "execution_count": null,
   "metadata": {},
   "outputs": [],
   "source": []
  }
 ],
 "metadata": {
  "kernelspec": {
   "display_name": "Python 3",
   "language": "python",
   "name": "python3"
  },
  "language_info": {
   "codemirror_mode": {
    "name": "ipython",
    "version": 3
   },
   "file_extension": ".py",
   "mimetype": "text/x-python",
   "name": "python",
   "nbconvert_exporter": "python",
   "pygments_lexer": "ipython3",
   "version": "3.7.3"
  }
 },
 "nbformat": 4,
 "nbformat_minor": 2
}
