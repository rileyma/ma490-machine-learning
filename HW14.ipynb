{
 "cells": [
  {
   "cell_type": "markdown",
   "metadata": {},
   "source": [
    "# PROBLEM"
   ]
  },
  {
   "cell_type": "code",
   "execution_count": 1,
   "metadata": {},
   "outputs": [],
   "source": [
    "from time import time as time\n",
    "import numpy as np\n",
    "import pandas as pd\n",
    "from sklearn.decomposition import PCA\n",
    "from sklearn.neighbors import KNeighborsClassifier\n",
    "import matplotlib.pyplot as plt\n",
    "%matplotlib inline"
   ]
  },
  {
   "cell_type": "code",
   "execution_count": 2,
   "metadata": {},
   "outputs": [],
   "source": [
    "MNIST_train = np.load('./MNIST_train_40000.npz')\n",
    "MNIST_test  = np.load('./MNIST_test_10000.npz')"
   ]
  },
  {
   "cell_type": "code",
   "execution_count": 3,
   "metadata": {},
   "outputs": [],
   "source": [
    "images_train = MNIST_train['train_images']\n",
    "images_test  = MNIST_test['test_images']\n",
    "labels_train = MNIST_train['train_labels']\n",
    "labels_test  = MNIST_test['test_labels']\n",
    "features_train = images_train.reshape(40000,28*28)\n",
    "features_test  = images_test.reshape(10000,28*28)\n",
    "target_train   = labels_train\n",
    "target_test    = labels_test"
   ]
  },
  {
   "cell_type": "code",
   "execution_count": 5,
   "metadata": {},
   "outputs": [
    {
     "name": "stdout",
     "output_type": "stream",
     "text": [
      "\n",
      "training time (min): 0.0\n",
      "\n",
      "prediction time (min): 0.2\n",
      "\n",
      "training error rate 0.02   testing error rate 0.03\n"
     ]
    }
   ],
   "source": [
    "n_comp = 20\n",
    "\n",
    "pca = PCA(n_components=n_comp)\n",
    "knn = KNeighborsClassifier(n_jobs=-1)\n",
    "\n",
    "time_start = time()\n",
    "pca.fit(features_train)\n",
    "features_train_scores = pca.transform(features_train)\n",
    "features_test_scores  = pca.transform(features_test)\n",
    "knn.fit(features_train_scores,labels_train)\n",
    "time_stop  = time()\n",
    "time_elapsed = (time_stop - time_start)/60\n",
    "print()\n",
    "print('training time (min):',round(time_elapsed,1))\n",
    "\n",
    "time_start = time()\n",
    "error_train = 1 - knn.score(features_train_scores,labels_train)\n",
    "error_test  = 1 - knn.score(features_test_scores,labels_test)\n",
    "time_stop  = time()\n",
    "time_elapsed = (time_stop - time_start)/60\n",
    "print()\n",
    "print('prediction time (min):',round(time_elapsed,1))\n",
    "print()\n",
    "print('training error rate',error_train.round(2),'  testing error rate',error_test.round(2))"
   ]
  },
  {
   "cell_type": "markdown",
   "metadata": {},
   "source": [
    "#### Training speed is ~142 times faster"
   ]
  },
  {
   "cell_type": "code",
   "execution_count": null,
   "metadata": {},
   "outputs": [],
   "source": []
  }
 ],
 "metadata": {
  "kernelspec": {
   "display_name": "Python 3",
   "language": "python",
   "name": "python3"
  },
  "language_info": {
   "codemirror_mode": {
    "name": "ipython",
    "version": 3
   },
   "file_extension": ".py",
   "mimetype": "text/x-python",
   "name": "python",
   "nbconvert_exporter": "python",
   "pygments_lexer": "ipython3",
   "version": "3.7.3"
  }
 },
 "nbformat": 4,
 "nbformat_minor": 2
}
