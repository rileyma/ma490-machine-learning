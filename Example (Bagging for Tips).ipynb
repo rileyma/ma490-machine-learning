{
 "cells": [
  {
   "cell_type": "code",
   "execution_count": 1,
   "metadata": {},
   "outputs": [],
   "source": [
    "import pandas as pd\n",
    "import numpy as np\n",
    "from sklearn.model_selection import cross_validate, GridSearchCV\n",
    "from sklearn.tree import DecisionTreeRegressor, export_graphviz\n",
    "from sklearn.neighbors import KNeighborsClassifier\n",
    "from sklearn.linear_model import LogisticRegression\n",
    "from sklearn.preprocessing import LabelEncoder\n",
    "from sklearn.metrics import mean_squared_error\n",
    "from sklearn.ensemble import BaggingRegressor\n",
    "import matplotlib.pyplot as plt\n",
    "import graphviz\n",
    "%matplotlib inline"
   ]
  },
  {
   "cell_type": "code",
   "execution_count": 2,
   "metadata": {},
   "outputs": [],
   "source": [
    "df = pd.read_csv(\"./tips.csv\")\n",
    "df['size'] = df['size'].astype('float')"
   ]
  },
  {
   "cell_type": "code",
   "execution_count": 3,
   "metadata": {},
   "outputs": [
    {
     "data": {
      "text/html": [
       "<div>\n",
       "<style scoped>\n",
       "    .dataframe tbody tr th:only-of-type {\n",
       "        vertical-align: middle;\n",
       "    }\n",
       "\n",
       "    .dataframe tbody tr th {\n",
       "        vertical-align: top;\n",
       "    }\n",
       "\n",
       "    .dataframe thead th {\n",
       "        text-align: right;\n",
       "    }\n",
       "</style>\n",
       "<table border=\"1\" class=\"dataframe\">\n",
       "  <thead>\n",
       "    <tr style=\"text-align: right;\">\n",
       "      <th></th>\n",
       "      <th>total_bill</th>\n",
       "      <th>tip</th>\n",
       "      <th>size</th>\n",
       "      <th>sex_Female</th>\n",
       "      <th>sex_Male</th>\n",
       "      <th>smoker_No</th>\n",
       "      <th>smoker_Yes</th>\n",
       "      <th>day_Fri</th>\n",
       "      <th>day_Sat</th>\n",
       "      <th>day_Sun</th>\n",
       "      <th>day_Thur</th>\n",
       "      <th>time_Dinner</th>\n",
       "      <th>time_Lunch</th>\n",
       "    </tr>\n",
       "  </thead>\n",
       "  <tbody>\n",
       "    <tr>\n",
       "      <th>0</th>\n",
       "      <td>16.99</td>\n",
       "      <td>1.01</td>\n",
       "      <td>2.0</td>\n",
       "      <td>1</td>\n",
       "      <td>0</td>\n",
       "      <td>1</td>\n",
       "      <td>0</td>\n",
       "      <td>0</td>\n",
       "      <td>0</td>\n",
       "      <td>1</td>\n",
       "      <td>0</td>\n",
       "      <td>1</td>\n",
       "      <td>0</td>\n",
       "    </tr>\n",
       "    <tr>\n",
       "      <th>1</th>\n",
       "      <td>10.34</td>\n",
       "      <td>1.66</td>\n",
       "      <td>3.0</td>\n",
       "      <td>0</td>\n",
       "      <td>1</td>\n",
       "      <td>1</td>\n",
       "      <td>0</td>\n",
       "      <td>0</td>\n",
       "      <td>0</td>\n",
       "      <td>1</td>\n",
       "      <td>0</td>\n",
       "      <td>1</td>\n",
       "      <td>0</td>\n",
       "    </tr>\n",
       "    <tr>\n",
       "      <th>2</th>\n",
       "      <td>21.01</td>\n",
       "      <td>3.50</td>\n",
       "      <td>3.0</td>\n",
       "      <td>0</td>\n",
       "      <td>1</td>\n",
       "      <td>1</td>\n",
       "      <td>0</td>\n",
       "      <td>0</td>\n",
       "      <td>0</td>\n",
       "      <td>1</td>\n",
       "      <td>0</td>\n",
       "      <td>1</td>\n",
       "      <td>0</td>\n",
       "    </tr>\n",
       "  </tbody>\n",
       "</table>\n",
       "</div>"
      ],
      "text/plain": [
       "   total_bill   tip  size  sex_Female  sex_Male  smoker_No  smoker_Yes  \\\n",
       "0       16.99  1.01   2.0           1         0          1           0   \n",
       "1       10.34  1.66   3.0           0         1          1           0   \n",
       "2       21.01  3.50   3.0           0         1          1           0   \n",
       "\n",
       "   day_Fri  day_Sat  day_Sun  day_Thur  time_Dinner  time_Lunch  \n",
       "0        0        0        1         0            1           0  \n",
       "1        0        0        1         0            1           0  \n",
       "2        0        0        1         0            1           0  "
      ]
     },
     "execution_count": 3,
     "metadata": {},
     "output_type": "execute_result"
    }
   ],
   "source": [
    "df = pd.get_dummies(df)\n",
    "df.head(3)"
   ]
  },
  {
   "cell_type": "code",
   "execution_count": 4,
   "metadata": {},
   "outputs": [],
   "source": [
    "df_test = df.sample(frac=0.2,replace=False,random_state=0).copy()"
   ]
  },
  {
   "cell_type": "code",
   "execution_count": 5,
   "metadata": {},
   "outputs": [],
   "source": [
    "df_train = df.drop(df_test.index).copy()"
   ]
  },
  {
   "cell_type": "code",
   "execution_count": 6,
   "metadata": {},
   "outputs": [],
   "source": [
    "features_train = df_train.drop('tip',axis=1)\n",
    "features_test = df_test.drop('tip',axis=1)"
   ]
  },
  {
   "cell_type": "code",
   "execution_count": 7,
   "metadata": {},
   "outputs": [],
   "source": [
    "target_train = df_train.tip\n",
    "target_test = df_test.tip"
   ]
  },
  {
   "cell_type": "code",
   "execution_count": 8,
   "metadata": {},
   "outputs": [],
   "source": [
    "grid = {'max_depth': np.arange(1,26)}"
   ]
  },
  {
   "cell_type": "code",
   "execution_count": 9,
   "metadata": {},
   "outputs": [],
   "source": [
    "rtree = DecisionTreeRegressor()"
   ]
  },
  {
   "cell_type": "code",
   "execution_count": 10,
   "metadata": {},
   "outputs": [],
   "source": [
    "rtreeCV = GridSearchCV(rtree,param_grid=grid,return_train_score=True)"
   ]
  },
  {
   "cell_type": "code",
   "execution_count": 11,
   "metadata": {},
   "outputs": [
    {
     "name": "stderr",
     "output_type": "stream",
     "text": [
      "C:\\Users\\rileyma\\Anaconda3\\lib\\site-packages\\sklearn\\model_selection\\_split.py:2053: FutureWarning: You should specify a value for 'cv' instead of relying on the default value. The default value will change from 3 to 5 in version 0.22.\n",
      "  warnings.warn(CV_WARNING, FutureWarning)\n"
     ]
    },
    {
     "data": {
      "text/plain": [
       "GridSearchCV(cv='warn', error_score='raise-deprecating',\n",
       "       estimator=DecisionTreeRegressor(criterion='mse', max_depth=None, max_features=None,\n",
       "           max_leaf_nodes=None, min_impurity_decrease=0.0,\n",
       "           min_impurity_split=None, min_samples_leaf=1,\n",
       "           min_samples_split=2, min_weight_fraction_leaf=0.0,\n",
       "           presort=False, random_state=None, splitter='best'),\n",
       "       fit_params=None, iid='warn', n_jobs=None,\n",
       "       param_grid={'max_depth': array([ 1,  2,  3,  4,  5,  6,  7,  8,  9, 10, 11, 12, 13, 14, 15, 16, 17,\n",
       "       18, 19, 20, 21, 22, 23, 24, 25])},\n",
       "       pre_dispatch='2*n_jobs', refit=True, return_train_score=True,\n",
       "       scoring=None, verbose=0)"
      ]
     },
     "execution_count": 11,
     "metadata": {},
     "output_type": "execute_result"
    }
   ],
   "source": [
    "rtreeCV.fit(features_train,target_train)"
   ]
  },
  {
   "cell_type": "code",
   "execution_count": 12,
   "metadata": {},
   "outputs": [
    {
     "name": "stdout",
     "output_type": "stream",
     "text": [
      "\n",
      "optimal depth=  {'max_depth': 2} validation R2=  0.265\n"
     ]
    }
   ],
   "source": [
    "print()\n",
    "print('optimal depth= ', rtreeCV.best_params_, 'validation R2= ', rtreeCV.best_score_.round(3))"
   ]
  },
  {
   "cell_type": "code",
   "execution_count": 17,
   "metadata": {},
   "outputs": [
    {
     "name": "stdout",
     "output_type": "stream",
     "text": [
      "test MSE:  0.749\n"
     ]
    }
   ],
   "source": [
    "rtree_optimal = rtreeCV.best_estimator_\n",
    "target_predicted = rtree_optimal.predict(features_test)\n",
    "MSE_test = np.sqrt(mean_squared_error(target_test,target_predicted))\n",
    "print('test MSE: ', MSE_test.round(3))"
   ]
  },
  {
   "cell_type": "code",
   "execution_count": 22,
   "metadata": {},
   "outputs": [
    {
     "name": "stdout",
     "output_type": "stream",
     "text": [
      "test MSE:  0.749\n"
     ]
    }
   ],
   "source": [
    "rtree = DecisionTreeRegressor(max_depth=2)\n",
    "rtree.fit(features_train,target_train)\n",
    "target_predicted = rtree_optimal.predict(features_test)\n",
    "MSE_test = np.sqrt(mean_squared_error(target_test,target_predicted))\n",
    "print('test MSE: ', MSE_test.round(3))"
   ]
  },
  {
   "cell_type": "code",
   "execution_count": 23,
   "metadata": {},
   "outputs": [
    {
     "data": {
      "image/svg+xml": [
       "<?xml version=\"1.0\" encoding=\"UTF-8\" standalone=\"no\"?>\r\n",
       "<!DOCTYPE svg PUBLIC \"-//W3C//DTD SVG 1.1//EN\"\r\n",
       " \"http://www.w3.org/Graphics/SVG/1.1/DTD/svg11.dtd\">\r\n",
       "<!-- Generated by graphviz version 2.38.0 (20140413.2041)\r\n",
       " -->\r\n",
       "<!-- Title: Tree Pages: 1 -->\r\n",
       "<svg width=\"568pt\" height=\"224pt\"\r\n",
       " viewBox=\"0.00 0.00 567.50 224.00\" xmlns=\"http://www.w3.org/2000/svg\" xmlns:xlink=\"http://www.w3.org/1999/xlink\">\r\n",
       "<g id=\"graph0\" class=\"graph\" transform=\"scale(1 1) rotate(0) translate(4 220)\">\r\n",
       "<title>Tree</title>\r\n",
       "<polygon fill=\"white\" stroke=\"none\" points=\"-4,4 -4,-220 563.5,-220 563.5,4 -4,4\"/>\r\n",
       "<!-- 0 -->\r\n",
       "<g id=\"node1\" class=\"node\"><title>0</title>\r\n",
       "<path fill=\"#e58139\" fill-opacity=\"0.168627\" stroke=\"black\" d=\"M339,-216C339,-216 227,-216 227,-216 221,-216 215,-210 215,-204 215,-204 215,-175 215,-175 215,-169 221,-163 227,-163 227,-163 339,-163 339,-163 345,-163 351,-169 351,-175 351,-175 351,-204 351,-204 351,-210 345,-216 339,-216\"/>\r\n",
       "<text text-anchor=\"middle\" x=\"283\" y=\"-200.8\" font-family=\"Helvetica,sans-Serif\" font-size=\"14.00\">total_bill &lt;= 20.47</text>\r\n",
       "<text text-anchor=\"middle\" x=\"283\" y=\"-185.8\" font-family=\"Helvetica,sans-Serif\" font-size=\"14.00\">samples = 100.0%</text>\r\n",
       "<text text-anchor=\"middle\" x=\"283\" y=\"-170.8\" font-family=\"Helvetica,sans-Serif\" font-size=\"14.00\">value = 2.985</text>\r\n",
       "</g>\r\n",
       "<!-- 1 -->\r\n",
       "<g id=\"node2\" class=\"node\"><title>1</title>\r\n",
       "<path fill=\"#e58139\" fill-opacity=\"0.074510\" stroke=\"black\" d=\"M264.5,-127C264.5,-127 151.5,-127 151.5,-127 145.5,-127 139.5,-121 139.5,-115 139.5,-115 139.5,-86 139.5,-86 139.5,-80 145.5,-74 151.5,-74 151.5,-74 264.5,-74 264.5,-74 270.5,-74 276.5,-80 276.5,-86 276.5,-86 276.5,-115 276.5,-115 276.5,-121 270.5,-127 264.5,-127\"/>\r\n",
       "<text text-anchor=\"middle\" x=\"208\" y=\"-111.8\" font-family=\"Helvetica,sans-Serif\" font-size=\"14.00\">total_bill &lt;= 13.145</text>\r\n",
       "<text text-anchor=\"middle\" x=\"208\" y=\"-96.8\" font-family=\"Helvetica,sans-Serif\" font-size=\"14.00\">samples = 60.0%</text>\r\n",
       "<text text-anchor=\"middle\" x=\"208\" y=\"-81.8\" font-family=\"Helvetica,sans-Serif\" font-size=\"14.00\">value = 2.386</text>\r\n",
       "</g>\r\n",
       "<!-- 0&#45;&gt;1 -->\r\n",
       "<g id=\"edge1\" class=\"edge\"><title>0&#45;&gt;1</title>\r\n",
       "<path fill=\"none\" stroke=\"black\" d=\"M260.903,-162.868C253.342,-154.096 244.769,-144.152 236.759,-134.86\"/>\r\n",
       "<polygon fill=\"black\" stroke=\"black\" points=\"239.378,-132.539 230.198,-127.25 234.077,-137.109 239.378,-132.539\"/>\r\n",
       "<text text-anchor=\"middle\" x=\"228.351\" y=\"-148.481\" font-family=\"Helvetica,sans-Serif\" font-size=\"14.00\">True</text>\r\n",
       "</g>\r\n",
       "<!-- 4 -->\r\n",
       "<g id=\"node5\" class=\"node\"><title>4</title>\r\n",
       "<path fill=\"#e58139\" fill-opacity=\"0.305882\" stroke=\"black\" d=\"M411.5,-127C411.5,-127 306.5,-127 306.5,-127 300.5,-127 294.5,-121 294.5,-115 294.5,-115 294.5,-86 294.5,-86 294.5,-80 300.5,-74 306.5,-74 306.5,-74 411.5,-74 411.5,-74 417.5,-74 423.5,-80 423.5,-86 423.5,-86 423.5,-115 423.5,-115 423.5,-121 417.5,-127 411.5,-127\"/>\r\n",
       "<text text-anchor=\"middle\" x=\"359\" y=\"-111.8\" font-family=\"Helvetica,sans-Serif\" font-size=\"14.00\">total_bill &lt;= 48.22</text>\r\n",
       "<text text-anchor=\"middle\" x=\"359\" y=\"-96.8\" font-family=\"Helvetica,sans-Serif\" font-size=\"14.00\">samples = 40.0%</text>\r\n",
       "<text text-anchor=\"middle\" x=\"359\" y=\"-81.8\" font-family=\"Helvetica,sans-Serif\" font-size=\"14.00\">value = 3.884</text>\r\n",
       "</g>\r\n",
       "<!-- 0&#45;&gt;4 -->\r\n",
       "<g id=\"edge4\" class=\"edge\"><title>0&#45;&gt;4</title>\r\n",
       "<path fill=\"none\" stroke=\"black\" d=\"M305.391,-162.868C313.054,-154.096 321.741,-144.152 329.858,-134.86\"/>\r\n",
       "<polygon fill=\"black\" stroke=\"black\" points=\"332.563,-137.084 336.506,-127.25 327.291,-132.478 332.563,-137.084\"/>\r\n",
       "<text text-anchor=\"middle\" x=\"338.189\" y=\"-148.493\" font-family=\"Helvetica,sans-Serif\" font-size=\"14.00\">False</text>\r\n",
       "</g>\r\n",
       "<!-- 2 -->\r\n",
       "<g id=\"node3\" class=\"node\"><title>2</title>\r\n",
       "<path fill=\"none\" stroke=\"black\" d=\"M116,-38C116,-38 12,-38 12,-38 6,-38 0,-32 0,-26 0,-26 0,-12 0,-12 0,-6 6,-0 12,-0 12,-0 116,-0 116,-0 122,-0 128,-6 128,-12 128,-12 128,-26 128,-26 128,-32 122,-38 116,-38\"/>\r\n",
       "<text text-anchor=\"middle\" x=\"64\" y=\"-22.8\" font-family=\"Helvetica,sans-Serif\" font-size=\"14.00\">samples = 24.1%</text>\r\n",
       "<text text-anchor=\"middle\" x=\"64\" y=\"-7.8\" font-family=\"Helvetica,sans-Serif\" font-size=\"14.00\">value = 1.902</text>\r\n",
       "</g>\r\n",
       "<!-- 1&#45;&gt;2 -->\r\n",
       "<g id=\"edge2\" class=\"edge\"><title>1&#45;&gt;2</title>\r\n",
       "<path fill=\"none\" stroke=\"black\" d=\"M161.645,-73.9081C143.721,-64.0128 123.359,-52.771 105.884,-43.1232\"/>\r\n",
       "<polygon fill=\"black\" stroke=\"black\" points=\"107.483,-40.0081 97.0365,-38.2389 104.099,-46.1362 107.483,-40.0081\"/>\r\n",
       "</g>\r\n",
       "<!-- 3 -->\r\n",
       "<g id=\"node4\" class=\"node\"><title>3</title>\r\n",
       "<path fill=\"#e58139\" fill-opacity=\"0.125490\" stroke=\"black\" d=\"M262,-38C262,-38 158,-38 158,-38 152,-38 146,-32 146,-26 146,-26 146,-12 146,-12 146,-6 152,-0 158,-0 158,-0 262,-0 262,-0 268,-0 274,-6 274,-12 274,-12 274,-26 274,-26 274,-32 268,-38 262,-38\"/>\r\n",
       "<text text-anchor=\"middle\" x=\"210\" y=\"-22.8\" font-family=\"Helvetica,sans-Serif\" font-size=\"14.00\">samples = 35.9%</text>\r\n",
       "<text text-anchor=\"middle\" x=\"210\" y=\"-7.8\" font-family=\"Helvetica,sans-Serif\" font-size=\"14.00\">value = 2.71</text>\r\n",
       "</g>\r\n",
       "<!-- 1&#45;&gt;3 -->\r\n",
       "<g id=\"edge3\" class=\"edge\"><title>1&#45;&gt;3</title>\r\n",
       "<path fill=\"none\" stroke=\"black\" d=\"M208.644,-73.9081C208.849,-65.7377 209.078,-56.6492 209.288,-48.2981\"/>\r\n",
       "<polygon fill=\"black\" stroke=\"black\" points=\"212.788,-48.3238 209.541,-38.2389 205.791,-48.1477 212.788,-48.3238\"/>\r\n",
       "</g>\r\n",
       "<!-- 5 -->\r\n",
       "<g id=\"node6\" class=\"node\"><title>5</title>\r\n",
       "<path fill=\"#e58139\" fill-opacity=\"0.290196\" stroke=\"black\" d=\"M410,-38C410,-38 306,-38 306,-38 300,-38 294,-32 294,-26 294,-26 294,-12 294,-12 294,-6 300,-0 306,-0 306,-0 410,-0 410,-0 416,-0 422,-6 422,-12 422,-12 422,-26 422,-26 422,-32 416,-38 410,-38\"/>\r\n",
       "<text text-anchor=\"middle\" x=\"358\" y=\"-22.8\" font-family=\"Helvetica,sans-Serif\" font-size=\"14.00\">samples = 39.0%</text>\r\n",
       "<text text-anchor=\"middle\" x=\"358\" y=\"-7.8\" font-family=\"Helvetica,sans-Serif\" font-size=\"14.00\">value = 3.766</text>\r\n",
       "</g>\r\n",
       "<!-- 4&#45;&gt;5 -->\r\n",
       "<g id=\"edge5\" class=\"edge\"><title>4&#45;&gt;5</title>\r\n",
       "<path fill=\"none\" stroke=\"black\" d=\"M358.678,-73.9081C358.575,-65.7377 358.461,-56.6492 358.356,-48.2981\"/>\r\n",
       "<polygon fill=\"black\" stroke=\"black\" points=\"361.855,-48.1941 358.229,-38.2389 354.856,-48.2822 361.855,-48.1941\"/>\r\n",
       "</g>\r\n",
       "<!-- 6 -->\r\n",
       "<g id=\"node7\" class=\"node\"><title>6</title>\r\n",
       "<path fill=\"#e58139\" stroke=\"black\" d=\"M547.5,-38C547.5,-38 452.5,-38 452.5,-38 446.5,-38 440.5,-32 440.5,-26 440.5,-26 440.5,-12 440.5,-12 440.5,-6 446.5,-0 452.5,-0 452.5,-0 547.5,-0 547.5,-0 553.5,-0 559.5,-6 559.5,-12 559.5,-12 559.5,-26 559.5,-26 559.5,-32 553.5,-38 547.5,-38\"/>\r\n",
       "<text text-anchor=\"middle\" x=\"500\" y=\"-22.8\" font-family=\"Helvetica,sans-Serif\" font-size=\"14.00\">samples = 1.0%</text>\r\n",
       "<text text-anchor=\"middle\" x=\"500\" y=\"-7.8\" font-family=\"Helvetica,sans-Serif\" font-size=\"14.00\">value = 8.365</text>\r\n",
       "</g>\r\n",
       "<!-- 4&#45;&gt;6 -->\r\n",
       "<g id=\"edge6\" class=\"edge\"><title>4&#45;&gt;6</title>\r\n",
       "<path fill=\"none\" stroke=\"black\" d=\"M404.389,-73.9081C421.779,-64.1036 441.512,-52.9771 458.517,-43.3891\"/>\r\n",
       "<polygon fill=\"black\" stroke=\"black\" points=\"460.66,-46.1991 467.652,-38.2389 457.222,-40.1016 460.66,-46.1991\"/>\r\n",
       "</g>\r\n",
       "</g>\r\n",
       "</svg>\r\n"
      ],
      "text/plain": [
       "<graphviz.files.Source at 0x214c6cae748>"
      ]
     },
     "execution_count": 23,
     "metadata": {},
     "output_type": "execute_result"
    }
   ],
   "source": [
    "dot_data = export_graphviz(rtree,\n",
    "                          out_file=None,\n",
    "                          feature_names=features_test.columns,\n",
    "                          proportion=True,\n",
    "                          impurity=False,\n",
    "                          filled=True,\n",
    "                          rounded=True,\n",
    "                          )\n",
    "graph = graphviz.Source(dot_data)\n",
    "graph"
   ]
  },
  {
   "cell_type": "code",
   "execution_count": 32,
   "metadata": {},
   "outputs": [
    {
     "ename": "TypeError",
     "evalue": "'set' object is not subscriptable",
     "output_type": "error",
     "traceback": [
      "\u001b[1;31m---------------------------------------------------------------------------\u001b[0m",
      "\u001b[1;31mTypeError\u001b[0m                                 Traceback (most recent call last)",
      "\u001b[1;32m<ipython-input-32-0b5da873c6fa>\u001b[0m in \u001b[0;36m<module>\u001b[1;34m\u001b[0m\n\u001b[0;32m      8\u001b[0m     \u001b[0mtarget_bootstrapped\u001b[0m \u001b[1;33m=\u001b[0m \u001b[0mdf_train_bootstrapped\u001b[0m\u001b[1;33m.\u001b[0m\u001b[0mtip\u001b[0m\u001b[1;33m\u001b[0m\u001b[1;33m\u001b[0m\u001b[0m\n\u001b[0;32m      9\u001b[0m     \u001b[1;32mfor\u001b[0m \u001b[0mj\u001b[0m \u001b[1;32min\u001b[0m \u001b[0mrange\u001b[0m\u001b[1;33m(\u001b[0m\u001b[1;36m3\u001b[0m\u001b[1;33m)\u001b[0m\u001b[1;33m:\u001b[0m\u001b[1;33m\u001b[0m\u001b[1;33m\u001b[0m\u001b[0m\n\u001b[1;32m---> 10\u001b[1;33m         \u001b[0mrtree\u001b[0m \u001b[1;33m=\u001b[0m \u001b[0mDecisionTreeRegressor\u001b[0m\u001b[1;33m(\u001b[0m\u001b[0mmax_depth\u001b[0m\u001b[1;33m=\u001b[0m\u001b[0mdepth\u001b[0m\u001b[1;33m[\u001b[0m\u001b[0mj\u001b[0m\u001b[1;33m]\u001b[0m\u001b[1;33m)\u001b[0m\u001b[1;33m\u001b[0m\u001b[1;33m\u001b[0m\u001b[0m\n\u001b[0m\u001b[0;32m     11\u001b[0m         \u001b[0mrtree\u001b[0m\u001b[1;33m.\u001b[0m\u001b[0mfit\u001b[0m\u001b[1;33m(\u001b[0m\u001b[0mfeatures_bootstrapped\u001b[0m\u001b[1;33m,\u001b[0m \u001b[0mtarget_bootstrapped\u001b[0m\u001b[1;33m)\u001b[0m\u001b[1;33m\u001b[0m\u001b[1;33m\u001b[0m\u001b[0m\n\u001b[0;32m     12\u001b[0m         \u001b[0mtarget_predicted\u001b[0m \u001b[1;33m=\u001b[0m \u001b[0mrtree\u001b[0m\u001b[1;33m.\u001b[0m\u001b[0mpredict\u001b[0m\u001b[1;33m(\u001b[0m\u001b[0mfeatures_test\u001b[0m\u001b[1;33m)\u001b[0m\u001b[1;33m\u001b[0m\u001b[1;33m\u001b[0m\u001b[0m\n",
      "\u001b[1;31mTypeError\u001b[0m: 'set' object is not subscriptable"
     ]
    }
   ],
   "source": [
    "N = 1000\n",
    "depth = {1,2,10}\n",
    "errors = pd.DataFrame(index=range(1000),columns=['depth 1', 'depth 2', 'depth 10'])\n",
    "\n",
    "for i in range(N):\n",
    "    df_train_bootstrapped= df_train.sample(frac=1,replace=True).copy()\n",
    "    features_bootstrapped = df_train_bootstrapped.drop('tip',axis=1)\n",
    "    target_bootstrapped = df_train_bootstrapped.tip\n",
    "    for j in range(3):\n",
    "        rtree = DecisionTreeRegressor(max_depth=depth[j])\n",
    "        rtree.fit(features_bootstrapped, target_bootstrapped)\n",
    "        target_predicted = rtree.predict(features_test)\n",
    "        errors.iloc[i, j] = np.sqrt(mean_squared_error(target_test,target_predicted))\n",
    "        \n",
    "errors.plot.box(title='Tip MSE (test)')"
   ]
  },
  {
   "cell_type": "code",
   "execution_count": null,
   "metadata": {},
   "outputs": [],
   "source": []
  }
 ],
 "metadata": {
  "kernelspec": {
   "display_name": "Python 3",
   "language": "python",
   "name": "python3"
  },
  "language_info": {
   "codemirror_mode": {
    "name": "ipython",
    "version": 3
   },
   "file_extension": ".py",
   "mimetype": "text/x-python",
   "name": "python",
   "nbconvert_exporter": "python",
   "pygments_lexer": "ipython3",
   "version": "3.7.3"
  }
 },
 "nbformat": 4,
 "nbformat_minor": 2
}
