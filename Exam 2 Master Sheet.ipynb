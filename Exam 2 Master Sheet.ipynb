{
 "cells": [
  {
   "cell_type": "code",
   "execution_count": 1,
   "metadata": {},
   "outputs": [],
   "source": [
    "import numpy as np\n",
    "import pandas as pd\n",
    "from sklearn.decomposition import PCA\n",
    "from sklearn.model_selection import cross_validate, GridSearchCV\n",
    "from sklearn.tree import DecisionTreeClassifier, export_graphviz, DecisionTreeRegressor\n",
    "from sklearn.neighbors import KNeighborsClassifier\n",
    "from sklearn.linear_model import LogisticRegression\n",
    "from sklearn.preprocessing import LabelEncoder\n",
    "from sklearn.svm import SVR\n",
    "import graphviz\n",
    "from sklearn.metrics import mean_squared_error, r2_score\n",
    "from sklearn.ensemble import BaggingRegressor, RandomForestRegressor, GradientBoostingRegressor\n",
    "import matplotlib.pyplot as plt\n",
    "%matplotlib inline\n",
    "import warnings\n",
    "warnings.simplefilter(action='ignore', category=FutureWarning)"
   ]
  },
  {
   "cell_type": "markdown",
   "metadata": {},
   "source": [
    "# Gradient Boosted Trees"
   ]
  },
  {
   "cell_type": "code",
   "execution_count": 2,
   "metadata": {},
   "outputs": [
    {
     "data": {
      "text/html": [
       "<div>\n",
       "<style scoped>\n",
       "    .dataframe tbody tr th:only-of-type {\n",
       "        vertical-align: middle;\n",
       "    }\n",
       "\n",
       "    .dataframe tbody tr th {\n",
       "        vertical-align: top;\n",
       "    }\n",
       "\n",
       "    .dataframe thead th {\n",
       "        text-align: right;\n",
       "    }\n",
       "</style>\n",
       "<table border=\"1\" class=\"dataframe\">\n",
       "  <thead>\n",
       "    <tr style=\"text-align: right;\">\n",
       "      <th></th>\n",
       "      <th>fixed acidity</th>\n",
       "      <th>volatile acidity</th>\n",
       "      <th>citric acid</th>\n",
       "      <th>residual sugar</th>\n",
       "      <th>chlorides</th>\n",
       "      <th>free sulfur dioxide</th>\n",
       "      <th>total sulfur dioxide</th>\n",
       "      <th>density</th>\n",
       "      <th>pH</th>\n",
       "      <th>sulphates</th>\n",
       "      <th>alcohol</th>\n",
       "      <th>quality</th>\n",
       "    </tr>\n",
       "  </thead>\n",
       "  <tbody>\n",
       "    <tr>\n",
       "      <th>0</th>\n",
       "      <td>7.4</td>\n",
       "      <td>0.70</td>\n",
       "      <td>0.00</td>\n",
       "      <td>1.9</td>\n",
       "      <td>0.076</td>\n",
       "      <td>11.0</td>\n",
       "      <td>34.0</td>\n",
       "      <td>0.9978</td>\n",
       "      <td>3.51</td>\n",
       "      <td>0.56</td>\n",
       "      <td>9.4</td>\n",
       "      <td>5</td>\n",
       "    </tr>\n",
       "    <tr>\n",
       "      <th>1</th>\n",
       "      <td>7.8</td>\n",
       "      <td>0.88</td>\n",
       "      <td>0.00</td>\n",
       "      <td>2.6</td>\n",
       "      <td>0.098</td>\n",
       "      <td>25.0</td>\n",
       "      <td>67.0</td>\n",
       "      <td>0.9968</td>\n",
       "      <td>3.20</td>\n",
       "      <td>0.68</td>\n",
       "      <td>9.8</td>\n",
       "      <td>5</td>\n",
       "    </tr>\n",
       "    <tr>\n",
       "      <th>2</th>\n",
       "      <td>7.8</td>\n",
       "      <td>0.76</td>\n",
       "      <td>0.04</td>\n",
       "      <td>2.3</td>\n",
       "      <td>0.092</td>\n",
       "      <td>15.0</td>\n",
       "      <td>54.0</td>\n",
       "      <td>0.9970</td>\n",
       "      <td>3.26</td>\n",
       "      <td>0.65</td>\n",
       "      <td>9.8</td>\n",
       "      <td>5</td>\n",
       "    </tr>\n",
       "    <tr>\n",
       "      <th>3</th>\n",
       "      <td>11.2</td>\n",
       "      <td>0.28</td>\n",
       "      <td>0.56</td>\n",
       "      <td>1.9</td>\n",
       "      <td>0.075</td>\n",
       "      <td>17.0</td>\n",
       "      <td>60.0</td>\n",
       "      <td>0.9980</td>\n",
       "      <td>3.16</td>\n",
       "      <td>0.58</td>\n",
       "      <td>9.8</td>\n",
       "      <td>6</td>\n",
       "    </tr>\n",
       "    <tr>\n",
       "      <th>4</th>\n",
       "      <td>7.4</td>\n",
       "      <td>0.70</td>\n",
       "      <td>0.00</td>\n",
       "      <td>1.9</td>\n",
       "      <td>0.076</td>\n",
       "      <td>11.0</td>\n",
       "      <td>34.0</td>\n",
       "      <td>0.9978</td>\n",
       "      <td>3.51</td>\n",
       "      <td>0.56</td>\n",
       "      <td>9.4</td>\n",
       "      <td>5</td>\n",
       "    </tr>\n",
       "  </tbody>\n",
       "</table>\n",
       "</div>"
      ],
      "text/plain": [
       "   fixed acidity  volatile acidity  citric acid  residual sugar  chlorides  \\\n",
       "0            7.4              0.70         0.00             1.9      0.076   \n",
       "1            7.8              0.88         0.00             2.6      0.098   \n",
       "2            7.8              0.76         0.04             2.3      0.092   \n",
       "3           11.2              0.28         0.56             1.9      0.075   \n",
       "4            7.4              0.70         0.00             1.9      0.076   \n",
       "\n",
       "   free sulfur dioxide  total sulfur dioxide  density    pH  sulphates  \\\n",
       "0                 11.0                  34.0   0.9978  3.51       0.56   \n",
       "1                 25.0                  67.0   0.9968  3.20       0.68   \n",
       "2                 15.0                  54.0   0.9970  3.26       0.65   \n",
       "3                 17.0                  60.0   0.9980  3.16       0.58   \n",
       "4                 11.0                  34.0   0.9978  3.51       0.56   \n",
       "\n",
       "   alcohol  quality  \n",
       "0      9.4        5  \n",
       "1      9.8        5  \n",
       "2      9.8        5  \n",
       "3      9.8        6  \n",
       "4      9.4        5  "
      ]
     },
     "execution_count": 2,
     "metadata": {},
     "output_type": "execute_result"
    }
   ],
   "source": [
    "df = pd.read_csv('./Wine_red.csv',sep=';')\n",
    "df.head()"
   ]
  },
  {
   "cell_type": "code",
   "execution_count": 3,
   "metadata": {},
   "outputs": [],
   "source": [
    "df_test = df.sample(frac=0.2,replace=False,random_state=0).copy()\n",
    "df_train = df.drop(df_test.index).copy()\n",
    "\n",
    "features_train = df_train.drop('quality',axis=1)\n",
    "features_test = df_test.drop('quality',axis=1)\n",
    "\n",
    "target_train = df_train.quality\n",
    "target_test = df_test.quality"
   ]
  },
  {
   "cell_type": "code",
   "execution_count": 4,
   "metadata": {},
   "outputs": [
    {
     "name": "stdout",
     "output_type": "stream",
     "text": [
      "train R2 =  0.271\n",
      "train R2 =  0.343\n",
      "train R2 =  0.372\n"
     ]
    }
   ],
   "source": [
    "gbt = GradientBoostingRegressor(max_depth=2,n_estimators=3,learning_rate=1.0)\n",
    "gbt.fit(features_train,target_train)\n",
    "for target_train_predict in gbt.staged_predict(features_train):\n",
    "    R2_train = r2_score(target_train,target_train_predict)\n",
    "    print('train R2 = ',R2_train.round(3))"
   ]
  },
  {
   "cell_type": "code",
   "execution_count": 5,
   "metadata": {},
   "outputs": [
    {
     "name": "stdout",
     "output_type": "stream",
     "text": [
      "test R2 =  0.204\n",
      "test R2 =  0.235\n",
      "test R2 =  0.249\n"
     ]
    }
   ],
   "source": [
    "gbt = GradientBoostingRegressor(max_depth=2,n_estimators=3,learning_rate=1.0)\n",
    "gbt.fit(features_train,target_train)\n",
    "for target_test_predict in gbt.staged_predict(features_test):\n",
    "    R2_train = r2_score(target_test,target_test_predict)\n",
    "    print('test R2 = ',R2_train.round(3))"
   ]
  },
  {
   "cell_type": "code",
   "execution_count": 6,
   "metadata": {},
   "outputs": [
    {
     "data": {
      "text/plain": [
       "<matplotlib.axes._subplots.AxesSubplot at 0x1ee211591d0>"
      ]
     },
     "execution_count": 6,
     "metadata": {},
     "output_type": "execute_result"
    },
    {
     "data": {
      "image/png": "[encoded data removed]",
      "text/plain": [
       "<Figure size 432x288 with 1 Axes>"
      ]
     },
     "metadata": {
      "needs_background": "light"
     },
     "output_type": "display_data"
    }
   ],
   "source": [
    "n_trees = 2000\n",
    "depth = 5\n",
    "\n",
    "gbt = GradientBoostingRegressor(max_depth=depth,n_estimators=n_trees,learning_rate=0.01)\n",
    "gbt.fit(features_train,target_train)\n",
    "\n",
    "n_tree = []\n",
    "R2_train = []\n",
    "R2_test = []\n",
    "\n",
    "target_train_predict = iter(gbt.staged_predict(features_train))\n",
    "target_test_predict = iter(gbt.staged_predict(features_test))\n",
    "\n",
    "for k in range(n_trees):\n",
    "    n_tree.append(k+1)\n",
    "    R2_train.append(r2_score(target_train,next(target_train_predict)))\n",
    "    R2_test.append(r2_score(target_test,next(target_test_predict)))\n",
    "    \n",
    "performance = pd.DataFrame()\n",
    "performance['n_tree'] = n_tree\n",
    "performance['train R2'] = R2_train\n",
    "performance['test R2'] = R2_test\n",
    "\n",
    "ax1 = performance.plot.line(x='n_tree',y='train R2')\n",
    "performance.plot.line(x='n_tree',y='test R2',ax=ax1)"
   ]
  },
  {
   "cell_type": "markdown",
   "metadata": {},
   "source": [
    "# Bagging"
   ]
  },
  {
   "cell_type": "code",
   "execution_count": 7,
   "metadata": {},
   "outputs": [],
   "source": [
    "df = pd.read_csv(\"./tips.csv\")\n",
    "df['size'] = df['size'].astype('float')"
   ]
  },
  {
   "cell_type": "code",
   "execution_count": 8,
   "metadata": {},
   "outputs": [
    {
     "data": {
      "text/html": [
       "<div>\n",
       "<style scoped>\n",
       "    .dataframe tbody tr th:only-of-type {\n",
       "        vertical-align: middle;\n",
       "    }\n",
       "\n",
       "    .dataframe tbody tr th {\n",
       "        vertical-align: top;\n",
       "    }\n",
       "\n",
       "    .dataframe thead th {\n",
       "        text-align: right;\n",
       "    }\n",
       "</style>\n",
       "<table border=\"1\" class=\"dataframe\">\n",
       "  <thead>\n",
       "    <tr style=\"text-align: right;\">\n",
       "      <th></th>\n",
       "      <th>total_bill</th>\n",
       "      <th>tip</th>\n",
       "      <th>size</th>\n",
       "      <th>sex_Female</th>\n",
       "      <th>sex_Male</th>\n",
       "      <th>smoker_No</th>\n",
       "      <th>smoker_Yes</th>\n",
       "      <th>day_Fri</th>\n",
       "      <th>day_Sat</th>\n",
       "      <th>day_Sun</th>\n",
       "      <th>day_Thur</th>\n",
       "      <th>time_Dinner</th>\n",
       "      <th>time_Lunch</th>\n",
       "    </tr>\n",
       "  </thead>\n",
       "  <tbody>\n",
       "    <tr>\n",
       "      <th>0</th>\n",
       "      <td>16.99</td>\n",
       "      <td>1.01</td>\n",
       "      <td>2.0</td>\n",
       "      <td>1</td>\n",
       "      <td>0</td>\n",
       "      <td>1</td>\n",
       "      <td>0</td>\n",
       "      <td>0</td>\n",
       "      <td>0</td>\n",
       "      <td>1</td>\n",
       "      <td>0</td>\n",
       "      <td>1</td>\n",
       "      <td>0</td>\n",
       "    </tr>\n",
       "    <tr>\n",
       "      <th>1</th>\n",
       "      <td>10.34</td>\n",
       "      <td>1.66</td>\n",
       "      <td>3.0</td>\n",
       "      <td>0</td>\n",
       "      <td>1</td>\n",
       "      <td>1</td>\n",
       "      <td>0</td>\n",
       "      <td>0</td>\n",
       "      <td>0</td>\n",
       "      <td>1</td>\n",
       "      <td>0</td>\n",
       "      <td>1</td>\n",
       "      <td>0</td>\n",
       "    </tr>\n",
       "    <tr>\n",
       "      <th>2</th>\n",
       "      <td>21.01</td>\n",
       "      <td>3.50</td>\n",
       "      <td>3.0</td>\n",
       "      <td>0</td>\n",
       "      <td>1</td>\n",
       "      <td>1</td>\n",
       "      <td>0</td>\n",
       "      <td>0</td>\n",
       "      <td>0</td>\n",
       "      <td>1</td>\n",
       "      <td>0</td>\n",
       "      <td>1</td>\n",
       "      <td>0</td>\n",
       "    </tr>\n",
       "  </tbody>\n",
       "</table>\n",
       "</div>"
      ],
      "text/plain": [
       "   total_bill   tip  size  sex_Female  sex_Male  smoker_No  smoker_Yes  \\\n",
       "0       16.99  1.01   2.0           1         0          1           0   \n",
       "1       10.34  1.66   3.0           0         1          1           0   \n",
       "2       21.01  3.50   3.0           0         1          1           0   \n",
       "\n",
       "   day_Fri  day_Sat  day_Sun  day_Thur  time_Dinner  time_Lunch  \n",
       "0        0        0        1         0            1           0  \n",
       "1        0        0        1         0            1           0  \n",
       "2        0        0        1         0            1           0  "
      ]
     },
     "execution_count": 8,
     "metadata": {},
     "output_type": "execute_result"
    }
   ],
   "source": [
    "df = pd.get_dummies(df)\n",
    "df.head(3)"
   ]
  },
  {
   "cell_type": "code",
   "execution_count": 9,
   "metadata": {},
   "outputs": [],
   "source": [
    "df_test = df.sample(frac=0.2,replace=False,random_state=0).copy()\n",
    "df_train = df.drop(df_test.index).copy()"
   ]
  },
  {
   "cell_type": "code",
   "execution_count": 10,
   "metadata": {},
   "outputs": [],
   "source": [
    "features_train = df_train.drop('tip',axis=1)\n",
    "features_test = df_test.drop('tip',axis=1)"
   ]
  },
  {
   "cell_type": "code",
   "execution_count": 11,
   "metadata": {},
   "outputs": [],
   "source": [
    "target_train = df_train.tip\n",
    "target_test = df_test.tip"
   ]
  },
  {
   "cell_type": "code",
   "execution_count": 12,
   "metadata": {},
   "outputs": [
    {
     "name": "stdout",
     "output_type": "stream",
     "text": [
      "\n",
      "optimal depth=  {'max_depth': 2} validation R2=  0.265\n"
     ]
    }
   ],
   "source": [
    "grid = {'max_depth': np.arange(1,26)}\n",
    "\n",
    "rtree = DecisionTreeRegressor()\n",
    "rtreeCV = GridSearchCV(rtree,param_grid=grid,return_train_score=True)\n",
    "rtreeCV.fit(features_train,target_train)\n",
    "\n",
    "print()\n",
    "print('optimal depth= ', rtreeCV.best_params_, 'validation R2= ', rtreeCV.best_score_.round(3))"
   ]
  },
  {
   "cell_type": "code",
   "execution_count": 13,
   "metadata": {},
   "outputs": [
    {
     "name": "stdout",
     "output_type": "stream",
     "text": [
      "test MSE:  0.749\n"
     ]
    }
   ],
   "source": [
    "rtree_optimal = rtreeCV.best_estimator_\n",
    "target_predicted = rtree_optimal.predict(features_test)\n",
    "MSE_test = np.sqrt(mean_squared_error(target_test,target_predicted))\n",
    "print('test MSE: ', MSE_test.round(3))"
   ]
  },
  {
   "cell_type": "code",
   "execution_count": 14,
   "metadata": {},
   "outputs": [
    {
     "name": "stdout",
     "output_type": "stream",
     "text": [
      "test MSE:  0.749\n"
     ]
    }
   ],
   "source": [
    "rtree = DecisionTreeRegressor(max_depth=2)\n",
    "rtree.fit(features_train,target_train)\n",
    "target_predicted = rtree_optimal.predict(features_test)\n",
    "MSE_test = np.sqrt(mean_squared_error(target_test,target_predicted))\n",
    "print('test MSE: ', MSE_test.round(3))"
   ]
  },
  {
   "cell_type": "code",
   "execution_count": 15,
   "metadata": {},
   "outputs": [
    {
     "data": {
      "image/svg+xml": [
       "<?xml version=\"1.0\" encoding=\"UTF-8\" standalone=\"no\"?>\r\n",
       "<!DOCTYPE svg PUBLIC \"-//W3C//DTD SVG 1.1//EN\"\r\n",
       " \"http://www.w3.org/Graphics/SVG/1.1/DTD/svg11.dtd\">\r\n",
       "<!-- Generated by graphviz version 2.38.0 (20140413.2041)\r\n",
       " -->\r\n",
       "<!-- Title: Tree Pages: 1 -->\r\n",
       "<svg width=\"568pt\" height=\"224pt\"\r\n",
       " viewBox=\"0.00 0.00 567.50 224.00\" xmlns=\"http://www.w3.org/2000/svg\" xmlns:xlink=\"http://www.w3.org/1999/xlink\">\r\n",
       "<g id=\"graph0\" class=\"graph\" transform=\"scale(1 1) rotate(0) translate(4 220)\">\r\n",
       "<title>Tree</title>\r\n",
       "<polygon fill=\"white\" stroke=\"none\" points=\"-4,4 -4,-220 563.5,-220 563.5,4 -4,4\"/>\r\n",
       "<!-- 0 -->\r\n",
       "<g id=\"node1\" class=\"node\"><title>0</title>\r\n",
       "<path fill=\"#e58139\" fill-opacity=\"0.168627\" stroke=\"black\" d=\"M339,-216C339,-216 227,-216 227,-216 221,-216 215,-210 215,-204 215,-204 215,-175 215,-175 215,-169 221,-163 227,-163 227,-163 339,-163 339,-163 345,-163 351,-169 351,-175 351,-175 351,-204 351,-204 351,-210 345,-216 339,-216\"/>\r\n",
       "<text text-anchor=\"middle\" x=\"283\" y=\"-200.8\" font-family=\"Helvetica,sans-Serif\" font-size=\"14.00\">total_bill &lt;= 20.47</text>\r\n",
       "<text text-anchor=\"middle\" x=\"283\" y=\"-185.8\" font-family=\"Helvetica,sans-Serif\" font-size=\"14.00\">samples = 100.0%</text>\r\n",
       "<text text-anchor=\"middle\" x=\"283\" y=\"-170.8\" font-family=\"Helvetica,sans-Serif\" font-size=\"14.00\">value = 2.985</text>\r\n",
       "</g>\r\n",
       "<!-- 1 -->\r\n",
       "<g id=\"node2\" class=\"node\"><title>1</title>\r\n",
       "<path fill=\"#e58139\" fill-opacity=\"0.074510\" stroke=\"black\" d=\"M264.5,-127C264.5,-127 151.5,-127 151.5,-127 145.5,-127 139.5,-121 139.5,-115 139.5,-115 139.5,-86 139.5,-86 139.5,-80 145.5,-74 151.5,-74 151.5,-74 264.5,-74 264.5,-74 270.5,-74 276.5,-80 276.5,-86 276.5,-86 276.5,-115 276.5,-115 276.5,-121 270.5,-127 264.5,-127\"/>\r\n",
       "<text text-anchor=\"middle\" x=\"208\" y=\"-111.8\" font-family=\"Helvetica,sans-Serif\" font-size=\"14.00\">total_bill &lt;= 13.145</text>\r\n",
       "<text text-anchor=\"middle\" x=\"208\" y=\"-96.8\" font-family=\"Helvetica,sans-Serif\" font-size=\"14.00\">samples = 60.0%</text>\r\n",
       "<text text-anchor=\"middle\" x=\"208\" y=\"-81.8\" font-family=\"Helvetica,sans-Serif\" font-size=\"14.00\">value = 2.386</text>\r\n",
       "</g>\r\n",
       "<!-- 0&#45;&gt;1 -->\r\n",
       "<g id=\"edge1\" class=\"edge\"><title>0&#45;&gt;1</title>\r\n",
       "<path fill=\"none\" stroke=\"black\" d=\"M260.903,-162.868C253.342,-154.096 244.769,-144.152 236.759,-134.86\"/>\r\n",
       "<polygon fill=\"black\" stroke=\"black\" points=\"239.378,-132.539 230.198,-127.25 234.077,-137.109 239.378,-132.539\"/>\r\n",
       "<text text-anchor=\"middle\" x=\"228.351\" y=\"-148.481\" font-family=\"Helvetica,sans-Serif\" font-size=\"14.00\">True</text>\r\n",
       "</g>\r\n",
       "<!-- 4 -->\r\n",
       "<g id=\"node5\" class=\"node\"><title>4</title>\r\n",
       "<path fill=\"#e58139\" fill-opacity=\"0.305882\" stroke=\"black\" d=\"M411.5,-127C411.5,-127 306.5,-127 306.5,-127 300.5,-127 294.5,-121 294.5,-115 294.5,-115 294.5,-86 294.5,-86 294.5,-80 300.5,-74 306.5,-74 306.5,-74 411.5,-74 411.5,-74 417.5,-74 423.5,-80 423.5,-86 423.5,-86 423.5,-115 423.5,-115 423.5,-121 417.5,-127 411.5,-127\"/>\r\n",
       "<text text-anchor=\"middle\" x=\"359\" y=\"-111.8\" font-family=\"Helvetica,sans-Serif\" font-size=\"14.00\">total_bill &lt;= 48.22</text>\r\n",
       "<text text-anchor=\"middle\" x=\"359\" y=\"-96.8\" font-family=\"Helvetica,sans-Serif\" font-size=\"14.00\">samples = 40.0%</text>\r\n",
       "<text text-anchor=\"middle\" x=\"359\" y=\"-81.8\" font-family=\"Helvetica,sans-Serif\" font-size=\"14.00\">value = 3.884</text>\r\n",
       "</g>\r\n",
       "<!-- 0&#45;&gt;4 -->\r\n",
       "<g id=\"edge4\" class=\"edge\"><title>0&#45;&gt;4</title>\r\n",
       "<path fill=\"none\" stroke=\"black\" d=\"M305.391,-162.868C313.054,-154.096 321.741,-144.152 329.858,-134.86\"/>\r\n",
       "<polygon fill=\"black\" stroke=\"black\" points=\"332.563,-137.084 336.506,-127.25 327.291,-132.478 332.563,-137.084\"/>\r\n",
       "<text text-anchor=\"middle\" x=\"338.189\" y=\"-148.493\" font-family=\"Helvetica,sans-Serif\" font-size=\"14.00\">False</text>\r\n",
       "</g>\r\n",
       "<!-- 2 -->\r\n",
       "<g id=\"node3\" class=\"node\"><title>2</title>\r\n",
       "<path fill=\"none\" stroke=\"black\" d=\"M116,-38C116,-38 12,-38 12,-38 6,-38 0,-32 0,-26 0,-26 0,-12 0,-12 0,-6 6,-0 12,-0 12,-0 116,-0 116,-0 122,-0 128,-6 128,-12 128,-12 128,-26 128,-26 128,-32 122,-38 116,-38\"/>\r\n",
       "<text text-anchor=\"middle\" x=\"64\" y=\"-22.8\" font-family=\"Helvetica,sans-Serif\" font-size=\"14.00\">samples = 24.1%</text>\r\n",
       "<text text-anchor=\"middle\" x=\"64\" y=\"-7.8\" font-family=\"Helvetica,sans-Serif\" font-size=\"14.00\">value = 1.902</text>\r\n",
       "</g>\r\n",
       "<!-- 1&#45;&gt;2 -->\r\n",
       "<g id=\"edge2\" class=\"edge\"><title>1&#45;&gt;2</title>\r\n",
       "<path fill=\"none\" stroke=\"black\" d=\"M161.645,-73.9081C143.721,-64.0128 123.359,-52.771 105.884,-43.1232\"/>\r\n",
       "<polygon fill=\"black\" stroke=\"black\" points=\"107.483,-40.0081 97.0365,-38.2389 104.099,-46.1362 107.483,-40.0081\"/>\r\n",
       "</g>\r\n",
       "<!-- 3 -->\r\n",
       "<g id=\"node4\" class=\"node\"><title>3</title>\r\n",
       "<path fill=\"#e58139\" fill-opacity=\"0.125490\" stroke=\"black\" d=\"M262,-38C262,-38 158,-38 158,-38 152,-38 146,-32 146,-26 146,-26 146,-12 146,-12 146,-6 152,-0 158,-0 158,-0 262,-0 262,-0 268,-0 274,-6 274,-12 274,-12 274,-26 274,-26 274,-32 268,-38 262,-38\"/>\r\n",
       "<text text-anchor=\"middle\" x=\"210\" y=\"-22.8\" font-family=\"Helvetica,sans-Serif\" font-size=\"14.00\">samples = 35.9%</text>\r\n",
       "<text text-anchor=\"middle\" x=\"210\" y=\"-7.8\" font-family=\"Helvetica,sans-Serif\" font-size=\"14.00\">value = 2.71</text>\r\n",
       "</g>\r\n",
       "<!-- 1&#45;&gt;3 -->\r\n",
       "<g id=\"edge3\" class=\"edge\"><title>1&#45;&gt;3</title>\r\n",
       "<path fill=\"none\" stroke=\"black\" d=\"M208.644,-73.9081C208.849,-65.7377 209.078,-56.6492 209.288,-48.2981\"/>\r\n",
       "<polygon fill=\"black\" stroke=\"black\" points=\"212.788,-48.3238 209.541,-38.2389 205.791,-48.1477 212.788,-48.3238\"/>\r\n",
       "</g>\r\n",
       "<!-- 5 -->\r\n",
       "<g id=\"node6\" class=\"node\"><title>5</title>\r\n",
       "<path fill=\"#e58139\" fill-opacity=\"0.290196\" stroke=\"black\" d=\"M410,-38C410,-38 306,-38 306,-38 300,-38 294,-32 294,-26 294,-26 294,-12 294,-12 294,-6 300,-0 306,-0 306,-0 410,-0 410,-0 416,-0 422,-6 422,-12 422,-12 422,-26 422,-26 422,-32 416,-38 410,-38\"/>\r\n",
       "<text text-anchor=\"middle\" x=\"358\" y=\"-22.8\" font-family=\"Helvetica,sans-Serif\" font-size=\"14.00\">samples = 39.0%</text>\r\n",
       "<text text-anchor=\"middle\" x=\"358\" y=\"-7.8\" font-family=\"Helvetica,sans-Serif\" font-size=\"14.00\">value = 3.766</text>\r\n",
       "</g>\r\n",
       "<!-- 4&#45;&gt;5 -->\r\n",
       "<g id=\"edge5\" class=\"edge\"><title>4&#45;&gt;5</title>\r\n",
       "<path fill=\"none\" stroke=\"black\" d=\"M358.678,-73.9081C358.575,-65.7377 358.461,-56.6492 358.356,-48.2981\"/>\r\n",
       "<polygon fill=\"black\" stroke=\"black\" points=\"361.855,-48.1941 358.229,-38.2389 354.856,-48.2822 361.855,-48.1941\"/>\r\n",
       "</g>\r\n",
       "<!-- 6 -->\r\n",
       "<g id=\"node7\" class=\"node\"><title>6</title>\r\n",
       "<path fill=\"#e58139\" stroke=\"black\" d=\"M547.5,-38C547.5,-38 452.5,-38 452.5,-38 446.5,-38 440.5,-32 440.5,-26 440.5,-26 440.5,-12 440.5,-12 440.5,-6 446.5,-0 452.5,-0 452.5,-0 547.5,-0 547.5,-0 553.5,-0 559.5,-6 559.5,-12 559.5,-12 559.5,-26 559.5,-26 559.5,-32 553.5,-38 547.5,-38\"/>\r\n",
       "<text text-anchor=\"middle\" x=\"500\" y=\"-22.8\" font-family=\"Helvetica,sans-Serif\" font-size=\"14.00\">samples = 1.0%</text>\r\n",
       "<text text-anchor=\"middle\" x=\"500\" y=\"-7.8\" font-family=\"Helvetica,sans-Serif\" font-size=\"14.00\">value = 8.365</text>\r\n",
       "</g>\r\n",
       "<!-- 4&#45;&gt;6 -->\r\n",
       "<g id=\"edge6\" class=\"edge\"><title>4&#45;&gt;6</title>\r\n",
       "<path fill=\"none\" stroke=\"black\" d=\"M404.389,-73.9081C421.779,-64.1036 441.512,-52.9771 458.517,-43.3891\"/>\r\n",
       "<polygon fill=\"black\" stroke=\"black\" points=\"460.66,-46.1991 467.652,-38.2389 457.222,-40.1016 460.66,-46.1991\"/>\r\n",
       "</g>\r\n",
       "</g>\r\n",
       "</svg>\r\n"
      ],
      "text/plain": [
       "<graphviz.files.Source at 0x1ee214a2128>"
      ]
     },
     "execution_count": 15,
     "metadata": {},
     "output_type": "execute_result"
    }
   ],
   "source": [
    "dot_data = export_graphviz(rtree,\n",
    "                          out_file=None,\n",
    "                          feature_names=features_test.columns,\n",
    "                          proportion=True,\n",
    "                          impurity=False,\n",
    "                          filled=True,\n",
    "                          rounded=True,\n",
    "                          )\n",
    "graph = graphviz.Source(dot_data)\n",
    "graph"
   ]
  },
  {
   "cell_type": "code",
   "execution_count": 16,
   "metadata": {},
   "outputs": [
    {
     "data": {
      "text/plain": [
       "<matplotlib.axes._subplots.AxesSubplot at 0x1ee21015748>"
      ]
     },
     "execution_count": 16,
     "metadata": {},
     "output_type": "execute_result"
    },
    {
     "data": {
      "image/png": "[encoded data removed]",
      "text/plain": [
       "<Figure size 432x288 with 1 Axes>"
      ]
     },
     "metadata": {
      "needs_background": "light"
     },
     "output_type": "display_data"
    }
   ],
   "source": [
    "N = 1000\n",
    "depth = [1,2,10]\n",
    "errors = pd.DataFrame(index=range(1000),columns=['depth 1', 'depth 2', 'depth 10'])\n",
    "\n",
    "for i in range(N):\n",
    "    df_train_bootstrapped= df_train.sample(frac=1,replace=True).copy()\n",
    "    features_bootstrapped = df_train_bootstrapped.drop('tip',axis=1)\n",
    "    target_bootstrapped = df_train_bootstrapped.tip\n",
    "    for j in range(3):\n",
    "        rtree = DecisionTreeRegressor(max_depth=depth[j])\n",
    "        rtree.fit(features_bootstrapped, target_bootstrapped)\n",
    "        target_predicted = rtree.predict(features_test)\n",
    "        errors.iloc[i, j] = np.sqrt(mean_squared_error(target_test,target_predicted))\n",
    "        \n",
    "errors.plot.box(title='Tip MSE (test)')"
   ]
  },
  {
   "cell_type": "code",
   "execution_count": 17,
   "metadata": {},
   "outputs": [
    {
     "name": "stdout",
     "output_type": "stream",
     "text": [
      "test MSE =  0.883\n"
     ]
    }
   ],
   "source": [
    "rtree = DecisionTreeRegressor(max_depth=10)\n",
    "\n",
    "n_records = target_test.shape[0]\n",
    "n_trees = 1000\n",
    "target_forest = pd.DataFrame(index=range(n_records),columns=range(n_trees))\n",
    "\n",
    "for k in range(n_trees):\n",
    "    df_train_bootstrapped = df_train.sample(frac=1.0,replace=True).copy()\n",
    "    features_bootstrapped = df_train_bootstrapped.drop('tip',axis=1)\n",
    "    target_bootstrapped = df_train_bootstrapped.tip\n",
    "    rtree.fit(features_bootstrapped, target_bootstrapped)\n",
    "    target_forest.iloc[:,k] = rtree.predict(features_test)\n",
    "    \n",
    "target_predicted = target_forest.mean(axis=1)\n",
    "\n",
    "RMSE_test = np.sqrt(mean_squared_error(target_test,target_predicted))\n",
    "print('test MSE = ', RMSE_test.round(3))"
   ]
  },
  {
   "cell_type": "code",
   "execution_count": 18,
   "metadata": {},
   "outputs": [
    {
     "name": "stdout",
     "output_type": "stream",
     "text": [
      "test MSE= 0.883\n"
     ]
    }
   ],
   "source": [
    "rtree = DecisionTreeRegressor(max_depth=10)\n",
    "bag = BaggingRegressor(rtree,n_estimators=1000,n_jobs=-1)\n",
    "bag.fit(features_train,target_train)\n",
    "target_predict = bag.predict(features_test)\n",
    "\n",
    "RMSE_test = np.sqrt(mean_squared_error(target_test,target_predicted))\n",
    "print('test MSE=', RMSE_test.round(3))"
   ]
  },
  {
   "cell_type": "markdown",
   "metadata": {},
   "source": [
    "# Random Forests"
   ]
  },
  {
   "cell_type": "code",
   "execution_count": 19,
   "metadata": {},
   "outputs": [],
   "source": [
    "df = pd.read_csv(\"./tips.csv\")\n",
    "df['size'] = df['size'].astype('float')"
   ]
  },
  {
   "cell_type": "code",
   "execution_count": 20,
   "metadata": {},
   "outputs": [
    {
     "data": {
      "text/html": [
       "<div>\n",
       "<style scoped>\n",
       "    .dataframe tbody tr th:only-of-type {\n",
       "        vertical-align: middle;\n",
       "    }\n",
       "\n",
       "    .dataframe tbody tr th {\n",
       "        vertical-align: top;\n",
       "    }\n",
       "\n",
       "    .dataframe thead th {\n",
       "        text-align: right;\n",
       "    }\n",
       "</style>\n",
       "<table border=\"1\" class=\"dataframe\">\n",
       "  <thead>\n",
       "    <tr style=\"text-align: right;\">\n",
       "      <th></th>\n",
       "      <th>total_bill</th>\n",
       "      <th>tip</th>\n",
       "      <th>size</th>\n",
       "      <th>sex_Female</th>\n",
       "      <th>sex_Male</th>\n",
       "      <th>smoker_No</th>\n",
       "      <th>smoker_Yes</th>\n",
       "      <th>day_Fri</th>\n",
       "      <th>day_Sat</th>\n",
       "      <th>day_Sun</th>\n",
       "      <th>day_Thur</th>\n",
       "      <th>time_Dinner</th>\n",
       "      <th>time_Lunch</th>\n",
       "    </tr>\n",
       "  </thead>\n",
       "  <tbody>\n",
       "    <tr>\n",
       "      <th>0</th>\n",
       "      <td>16.99</td>\n",
       "      <td>1.01</td>\n",
       "      <td>2.0</td>\n",
       "      <td>1</td>\n",
       "      <td>0</td>\n",
       "      <td>1</td>\n",
       "      <td>0</td>\n",
       "      <td>0</td>\n",
       "      <td>0</td>\n",
       "      <td>1</td>\n",
       "      <td>0</td>\n",
       "      <td>1</td>\n",
       "      <td>0</td>\n",
       "    </tr>\n",
       "    <tr>\n",
       "      <th>1</th>\n",
       "      <td>10.34</td>\n",
       "      <td>1.66</td>\n",
       "      <td>3.0</td>\n",
       "      <td>0</td>\n",
       "      <td>1</td>\n",
       "      <td>1</td>\n",
       "      <td>0</td>\n",
       "      <td>0</td>\n",
       "      <td>0</td>\n",
       "      <td>1</td>\n",
       "      <td>0</td>\n",
       "      <td>1</td>\n",
       "      <td>0</td>\n",
       "    </tr>\n",
       "    <tr>\n",
       "      <th>2</th>\n",
       "      <td>21.01</td>\n",
       "      <td>3.50</td>\n",
       "      <td>3.0</td>\n",
       "      <td>0</td>\n",
       "      <td>1</td>\n",
       "      <td>1</td>\n",
       "      <td>0</td>\n",
       "      <td>0</td>\n",
       "      <td>0</td>\n",
       "      <td>1</td>\n",
       "      <td>0</td>\n",
       "      <td>1</td>\n",
       "      <td>0</td>\n",
       "    </tr>\n",
       "  </tbody>\n",
       "</table>\n",
       "</div>"
      ],
      "text/plain": [
       "   total_bill   tip  size  sex_Female  sex_Male  smoker_No  smoker_Yes  \\\n",
       "0       16.99  1.01   2.0           1         0          1           0   \n",
       "1       10.34  1.66   3.0           0         1          1           0   \n",
       "2       21.01  3.50   3.0           0         1          1           0   \n",
       "\n",
       "   day_Fri  day_Sat  day_Sun  day_Thur  time_Dinner  time_Lunch  \n",
       "0        0        0        1         0            1           0  \n",
       "1        0        0        1         0            1           0  \n",
       "2        0        0        1         0            1           0  "
      ]
     },
     "execution_count": 20,
     "metadata": {},
     "output_type": "execute_result"
    }
   ],
   "source": [
    "df = pd.get_dummies(df)\n",
    "df.head(3)"
   ]
  },
  {
   "cell_type": "code",
   "execution_count": 21,
   "metadata": {},
   "outputs": [],
   "source": [
    "df_test = df.sample(frac=0.2,replace=False,random_state=0).copy()\n",
    "df_train = df.drop(df_test.index).copy()"
   ]
  },
  {
   "cell_type": "code",
   "execution_count": 22,
   "metadata": {},
   "outputs": [],
   "source": [
    "features_train = df_train.drop('tip',axis=1)\n",
    "features_test = df_test.drop('tip',axis=1)"
   ]
  },
  {
   "cell_type": "code",
   "execution_count": 23,
   "metadata": {},
   "outputs": [],
   "source": [
    "target_train = df_train.tip\n",
    "target_test = df_test.tip"
   ]
  },
  {
   "cell_type": "code",
   "execution_count": 24,
   "metadata": {},
   "outputs": [
    {
     "name": "stdout",
     "output_type": "stream",
     "text": [
      "\n",
      "optimal depth=  {'max_depth': 2} validation R2=  0.265\n"
     ]
    }
   ],
   "source": [
    "grid = {'max_depth': np.arange(1,26)}\n",
    "\n",
    "rtree = DecisionTreeRegressor()\n",
    "rtreeCV = GridSearchCV(rtree,param_grid=grid,return_train_score=True)\n",
    "rtreeCV.fit(features_train,target_train)\n",
    "\n",
    "print()\n",
    "print('optimal depth= ', rtreeCV.best_params_, 'validation R2= ', rtreeCV.best_score_.round(3))"
   ]
  },
  {
   "cell_type": "code",
   "execution_count": 25,
   "metadata": {},
   "outputs": [
    {
     "name": "stdout",
     "output_type": "stream",
     "text": [
      "test MSE:  0.749\n"
     ]
    }
   ],
   "source": [
    "rtree_optimal = rtreeCV.best_estimator_\n",
    "target_predicted = rtree_optimal.predict(features_test)\n",
    "MSE_test = np.sqrt(mean_squared_error(target_test,target_predicted))\n",
    "print('test MSE: ', MSE_test.round(3))"
   ]
  },
  {
   "cell_type": "code",
   "execution_count": 26,
   "metadata": {},
   "outputs": [
    {
     "name": "stdout",
     "output_type": "stream",
     "text": [
      "test MSE:  0.749\n"
     ]
    }
   ],
   "source": [
    "rtree = DecisionTreeRegressor(max_depth=2)\n",
    "rtree.fit(features_train,target_train)\n",
    "target_predicted = rtree_optimal.predict(features_test)\n",
    "MSE_test = np.sqrt(mean_squared_error(target_test,target_predicted))\n",
    "print('test MSE: ', MSE_test.round(3))"
   ]
  },
  {
   "cell_type": "code",
   "execution_count": 27,
   "metadata": {},
   "outputs": [
    {
     "data": {
      "image/svg+xml": [
       "<?xml version=\"1.0\" encoding=\"UTF-8\" standalone=\"no\"?>\r\n",
       "<!DOCTYPE svg PUBLIC \"-//W3C//DTD SVG 1.1//EN\"\r\n",
       " \"http://www.w3.org/Graphics/SVG/1.1/DTD/svg11.dtd\">\r\n",
       "<!-- Generated by graphviz version 2.38.0 (20140413.2041)\r\n",
       " -->\r\n",
       "<!-- Title: Tree Pages: 1 -->\r\n",
       "<svg width=\"568pt\" height=\"224pt\"\r\n",
       " viewBox=\"0.00 0.00 567.50 224.00\" xmlns=\"http://www.w3.org/2000/svg\" xmlns:xlink=\"http://www.w3.org/1999/xlink\">\r\n",
       "<g id=\"graph0\" class=\"graph\" transform=\"scale(1 1) rotate(0) translate(4 220)\">\r\n",
       "<title>Tree</title>\r\n",
       "<polygon fill=\"white\" stroke=\"none\" points=\"-4,4 -4,-220 563.5,-220 563.5,4 -4,4\"/>\r\n",
       "<!-- 0 -->\r\n",
       "<g id=\"node1\" class=\"node\"><title>0</title>\r\n",
       "<path fill=\"#e58139\" fill-opacity=\"0.168627\" stroke=\"black\" d=\"M339,-216C339,-216 227,-216 227,-216 221,-216 215,-210 215,-204 215,-204 215,-175 215,-175 215,-169 221,-163 227,-163 227,-163 339,-163 339,-163 345,-163 351,-169 351,-175 351,-175 351,-204 351,-204 351,-210 345,-216 339,-216\"/>\r\n",
       "<text text-anchor=\"middle\" x=\"283\" y=\"-200.8\" font-family=\"Helvetica,sans-Serif\" font-size=\"14.00\">total_bill &lt;= 20.47</text>\r\n",
       "<text text-anchor=\"middle\" x=\"283\" y=\"-185.8\" font-family=\"Helvetica,sans-Serif\" font-size=\"14.00\">samples = 100.0%</text>\r\n",
       "<text text-anchor=\"middle\" x=\"283\" y=\"-170.8\" font-family=\"Helvetica,sans-Serif\" font-size=\"14.00\">value = 2.985</text>\r\n",
       "</g>\r\n",
       "<!-- 1 -->\r\n",
       "<g id=\"node2\" class=\"node\"><title>1</title>\r\n",
       "<path fill=\"#e58139\" fill-opacity=\"0.074510\" stroke=\"black\" d=\"M264.5,-127C264.5,-127 151.5,-127 151.5,-127 145.5,-127 139.5,-121 139.5,-115 139.5,-115 139.5,-86 139.5,-86 139.5,-80 145.5,-74 151.5,-74 151.5,-74 264.5,-74 264.5,-74 270.5,-74 276.5,-80 276.5,-86 276.5,-86 276.5,-115 276.5,-115 276.5,-121 270.5,-127 264.5,-127\"/>\r\n",
       "<text text-anchor=\"middle\" x=\"208\" y=\"-111.8\" font-family=\"Helvetica,sans-Serif\" font-size=\"14.00\">total_bill &lt;= 13.145</text>\r\n",
       "<text text-anchor=\"middle\" x=\"208\" y=\"-96.8\" font-family=\"Helvetica,sans-Serif\" font-size=\"14.00\">samples = 60.0%</text>\r\n",
       "<text text-anchor=\"middle\" x=\"208\" y=\"-81.8\" font-family=\"Helvetica,sans-Serif\" font-size=\"14.00\">value = 2.386</text>\r\n",
       "</g>\r\n",
       "<!-- 0&#45;&gt;1 -->\r\n",
       "<g id=\"edge1\" class=\"edge\"><title>0&#45;&gt;1</title>\r\n",
       "<path fill=\"none\" stroke=\"black\" d=\"M260.903,-162.868C253.342,-154.096 244.769,-144.152 236.759,-134.86\"/>\r\n",
       "<polygon fill=\"black\" stroke=\"black\" points=\"239.378,-132.539 230.198,-127.25 234.077,-137.109 239.378,-132.539\"/>\r\n",
       "<text text-anchor=\"middle\" x=\"228.351\" y=\"-148.481\" font-family=\"Helvetica,sans-Serif\" font-size=\"14.00\">True</text>\r\n",
       "</g>\r\n",
       "<!-- 4 -->\r\n",
       "<g id=\"node5\" class=\"node\"><title>4</title>\r\n",
       "<path fill=\"#e58139\" fill-opacity=\"0.305882\" stroke=\"black\" d=\"M411.5,-127C411.5,-127 306.5,-127 306.5,-127 300.5,-127 294.5,-121 294.5,-115 294.5,-115 294.5,-86 294.5,-86 294.5,-80 300.5,-74 306.5,-74 306.5,-74 411.5,-74 411.5,-74 417.5,-74 423.5,-80 423.5,-86 423.5,-86 423.5,-115 423.5,-115 423.5,-121 417.5,-127 411.5,-127\"/>\r\n",
       "<text text-anchor=\"middle\" x=\"359\" y=\"-111.8\" font-family=\"Helvetica,sans-Serif\" font-size=\"14.00\">total_bill &lt;= 48.22</text>\r\n",
       "<text text-anchor=\"middle\" x=\"359\" y=\"-96.8\" font-family=\"Helvetica,sans-Serif\" font-size=\"14.00\">samples = 40.0%</text>\r\n",
       "<text text-anchor=\"middle\" x=\"359\" y=\"-81.8\" font-family=\"Helvetica,sans-Serif\" font-size=\"14.00\">value = 3.884</text>\r\n",
       "</g>\r\n",
       "<!-- 0&#45;&gt;4 -->\r\n",
       "<g id=\"edge4\" class=\"edge\"><title>0&#45;&gt;4</title>\r\n",
       "<path fill=\"none\" stroke=\"black\" d=\"M305.391,-162.868C313.054,-154.096 321.741,-144.152 329.858,-134.86\"/>\r\n",
       "<polygon fill=\"black\" stroke=\"black\" points=\"332.563,-137.084 336.506,-127.25 327.291,-132.478 332.563,-137.084\"/>\r\n",
       "<text text-anchor=\"middle\" x=\"338.189\" y=\"-148.493\" font-family=\"Helvetica,sans-Serif\" font-size=\"14.00\">False</text>\r\n",
       "</g>\r\n",
       "<!-- 2 -->\r\n",
       "<g id=\"node3\" class=\"node\"><title>2</title>\r\n",
       "<path fill=\"none\" stroke=\"black\" d=\"M116,-38C116,-38 12,-38 12,-38 6,-38 0,-32 0,-26 0,-26 0,-12 0,-12 0,-6 6,-0 12,-0 12,-0 116,-0 116,-0 122,-0 128,-6 128,-12 128,-12 128,-26 128,-26 128,-32 122,-38 116,-38\"/>\r\n",
       "<text text-anchor=\"middle\" x=\"64\" y=\"-22.8\" font-family=\"Helvetica,sans-Serif\" font-size=\"14.00\">samples = 24.1%</text>\r\n",
       "<text text-anchor=\"middle\" x=\"64\" y=\"-7.8\" font-family=\"Helvetica,sans-Serif\" font-size=\"14.00\">value = 1.902</text>\r\n",
       "</g>\r\n",
       "<!-- 1&#45;&gt;2 -->\r\n",
       "<g id=\"edge2\" class=\"edge\"><title>1&#45;&gt;2</title>\r\n",
       "<path fill=\"none\" stroke=\"black\" d=\"M161.645,-73.9081C143.721,-64.0128 123.359,-52.771 105.884,-43.1232\"/>\r\n",
       "<polygon fill=\"black\" stroke=\"black\" points=\"107.483,-40.0081 97.0365,-38.2389 104.099,-46.1362 107.483,-40.0081\"/>\r\n",
       "</g>\r\n",
       "<!-- 3 -->\r\n",
       "<g id=\"node4\" class=\"node\"><title>3</title>\r\n",
       "<path fill=\"#e58139\" fill-opacity=\"0.125490\" stroke=\"black\" d=\"M262,-38C262,-38 158,-38 158,-38 152,-38 146,-32 146,-26 146,-26 146,-12 146,-12 146,-6 152,-0 158,-0 158,-0 262,-0 262,-0 268,-0 274,-6 274,-12 274,-12 274,-26 274,-26 274,-32 268,-38 262,-38\"/>\r\n",
       "<text text-anchor=\"middle\" x=\"210\" y=\"-22.8\" font-family=\"Helvetica,sans-Serif\" font-size=\"14.00\">samples = 35.9%</text>\r\n",
       "<text text-anchor=\"middle\" x=\"210\" y=\"-7.8\" font-family=\"Helvetica,sans-Serif\" font-size=\"14.00\">value = 2.71</text>\r\n",
       "</g>\r\n",
       "<!-- 1&#45;&gt;3 -->\r\n",
       "<g id=\"edge3\" class=\"edge\"><title>1&#45;&gt;3</title>\r\n",
       "<path fill=\"none\" stroke=\"black\" d=\"M208.644,-73.9081C208.849,-65.7377 209.078,-56.6492 209.288,-48.2981\"/>\r\n",
       "<polygon fill=\"black\" stroke=\"black\" points=\"212.788,-48.3238 209.541,-38.2389 205.791,-48.1477 212.788,-48.3238\"/>\r\n",
       "</g>\r\n",
       "<!-- 5 -->\r\n",
       "<g id=\"node6\" class=\"node\"><title>5</title>\r\n",
       "<path fill=\"#e58139\" fill-opacity=\"0.290196\" stroke=\"black\" d=\"M410,-38C410,-38 306,-38 306,-38 300,-38 294,-32 294,-26 294,-26 294,-12 294,-12 294,-6 300,-0 306,-0 306,-0 410,-0 410,-0 416,-0 422,-6 422,-12 422,-12 422,-26 422,-26 422,-32 416,-38 410,-38\"/>\r\n",
       "<text text-anchor=\"middle\" x=\"358\" y=\"-22.8\" font-family=\"Helvetica,sans-Serif\" font-size=\"14.00\">samples = 39.0%</text>\r\n",
       "<text text-anchor=\"middle\" x=\"358\" y=\"-7.8\" font-family=\"Helvetica,sans-Serif\" font-size=\"14.00\">value = 3.766</text>\r\n",
       "</g>\r\n",
       "<!-- 4&#45;&gt;5 -->\r\n",
       "<g id=\"edge5\" class=\"edge\"><title>4&#45;&gt;5</title>\r\n",
       "<path fill=\"none\" stroke=\"black\" d=\"M358.678,-73.9081C358.575,-65.7377 358.461,-56.6492 358.356,-48.2981\"/>\r\n",
       "<polygon fill=\"black\" stroke=\"black\" points=\"361.855,-48.1941 358.229,-38.2389 354.856,-48.2822 361.855,-48.1941\"/>\r\n",
       "</g>\r\n",
       "<!-- 6 -->\r\n",
       "<g id=\"node7\" class=\"node\"><title>6</title>\r\n",
       "<path fill=\"#e58139\" stroke=\"black\" d=\"M547.5,-38C547.5,-38 452.5,-38 452.5,-38 446.5,-38 440.5,-32 440.5,-26 440.5,-26 440.5,-12 440.5,-12 440.5,-6 446.5,-0 452.5,-0 452.5,-0 547.5,-0 547.5,-0 553.5,-0 559.5,-6 559.5,-12 559.5,-12 559.5,-26 559.5,-26 559.5,-32 553.5,-38 547.5,-38\"/>\r\n",
       "<text text-anchor=\"middle\" x=\"500\" y=\"-22.8\" font-family=\"Helvetica,sans-Serif\" font-size=\"14.00\">samples = 1.0%</text>\r\n",
       "<text text-anchor=\"middle\" x=\"500\" y=\"-7.8\" font-family=\"Helvetica,sans-Serif\" font-size=\"14.00\">value = 8.365</text>\r\n",
       "</g>\r\n",
       "<!-- 4&#45;&gt;6 -->\r\n",
       "<g id=\"edge6\" class=\"edge\"><title>4&#45;&gt;6</title>\r\n",
       "<path fill=\"none\" stroke=\"black\" d=\"M404.389,-73.9081C421.779,-64.1036 441.512,-52.9771 458.517,-43.3891\"/>\r\n",
       "<polygon fill=\"black\" stroke=\"black\" points=\"460.66,-46.1991 467.652,-38.2389 457.222,-40.1016 460.66,-46.1991\"/>\r\n",
       "</g>\r\n",
       "</g>\r\n",
       "</svg>\r\n"
      ],
      "text/plain": [
       "<graphviz.files.Source at 0x1ee226485c0>"
      ]
     },
     "execution_count": 27,
     "metadata": {},
     "output_type": "execute_result"
    }
   ],
   "source": [
    "dot_data = export_graphviz(rtree,\n",
    "                          out_file=None,\n",
    "                          feature_names=features_test.columns,\n",
    "                          proportion=True,\n",
    "                          impurity=False,\n",
    "                          filled=True,\n",
    "                          rounded=True,\n",
    "                          )\n",
    "graph = graphviz.Source(dot_data)\n",
    "graph"
   ]
  },
  {
   "cell_type": "code",
   "execution_count": 28,
   "metadata": {},
   "outputs": [
    {
     "data": {
      "text/plain": [
       "<matplotlib.axes._subplots.AxesSubplot at 0x1ee225a3400>"
      ]
     },
     "execution_count": 28,
     "metadata": {},
     "output_type": "execute_result"
    },
    {
     "data": {
      "image/png": "[encoded data removed]",
      "text/plain": [
       "<Figure size 432x288 with 1 Axes>"
      ]
     },
     "metadata": {
      "needs_background": "light"
     },
     "output_type": "display_data"
    }
   ],
   "source": [
    "N = 1000\n",
    "depth = [1,2,10]\n",
    "errors = pd.DataFrame(index=range(1000),columns=['depth 1', 'depth 2', 'depth 10'])\n",
    "\n",
    "for i in range(N):\n",
    "    df_train_bootstrapped= df_train.sample(frac=1,replace=True).copy()\n",
    "    features_bootstrapped = df_train_bootstrapped.drop('tip',axis=1)\n",
    "    target_bootstrapped = df_train_bootstrapped.tip\n",
    "    for j in range(3):\n",
    "        rtree = DecisionTreeRegressor(max_depth=depth[j])\n",
    "        rtree.fit(features_bootstrapped, target_bootstrapped)\n",
    "        target_predicted = rtree.predict(features_test)\n",
    "        errors.iloc[i, j] = np.sqrt(mean_squared_error(target_test,target_predicted))\n",
    "        \n",
    "errors.plot.box(title='Tip MSE (test)')"
   ]
  },
  {
   "cell_type": "code",
   "execution_count": 29,
   "metadata": {},
   "outputs": [
    {
     "name": "stdout",
     "output_type": "stream",
     "text": [
      "test MSE =  0.889\n"
     ]
    }
   ],
   "source": [
    "rtree = DecisionTreeRegressor(max_depth=10)\n",
    "\n",
    "n_records = target_test.shape[0]\n",
    "n_trees = 1000\n",
    "target_forest = pd.DataFrame(index=range(n_records),columns=range(n_trees))\n",
    "\n",
    "for k in range(n_trees):\n",
    "    df_train_bootstrapped = df_train.sample(frac=1.0,replace=True).copy()\n",
    "    features_bootstrapped = df_train_bootstrapped.drop('tip',axis=1)\n",
    "    target_bootstrapped = df_train_bootstrapped.tip\n",
    "    rtree.fit(features_bootstrapped, target_bootstrapped)\n",
    "    target_forest.iloc[:,k] = rtree.predict(features_test)\n",
    "    \n",
    "target_predicted = target_forest.mean(axis=1)\n",
    "\n",
    "RMSE_test = np.sqrt(mean_squared_error(target_test,target_predicted))\n",
    "print('test MSE = ', RMSE_test.round(3))"
   ]
  },
  {
   "cell_type": "code",
   "execution_count": 30,
   "metadata": {},
   "outputs": [
    {
     "name": "stdout",
     "output_type": "stream",
     "text": [
      "test MSE= 0.889\n"
     ]
    }
   ],
   "source": [
    "rtree = DecisionTreeRegressor(max_depth=10)\n",
    "bag = BaggingRegressor(rtree,n_estimators=1000,n_jobs=-1)\n",
    "bag.fit(features_train,target_train)\n",
    "target_predict = bag.predict(features_test)\n",
    "\n",
    "RMSE_test = np.sqrt(mean_squared_error(target_test,target_predicted))\n",
    "print('test MSE=', RMSE_test.round(3))"
   ]
  },
  {
   "cell_type": "markdown",
   "metadata": {},
   "source": [
    "# SVM Regression"
   ]
  },
  {
   "cell_type": "code",
   "execution_count": 31,
   "metadata": {},
   "outputs": [
    {
     "data": {
      "text/html": [
       "<div>\n",
       "<style scoped>\n",
       "    .dataframe tbody tr th:only-of-type {\n",
       "        vertical-align: middle;\n",
       "    }\n",
       "\n",
       "    .dataframe tbody tr th {\n",
       "        vertical-align: top;\n",
       "    }\n",
       "\n",
       "    .dataframe thead th {\n",
       "        text-align: right;\n",
       "    }\n",
       "</style>\n",
       "<table border=\"1\" class=\"dataframe\">\n",
       "  <thead>\n",
       "    <tr style=\"text-align: right;\">\n",
       "      <th></th>\n",
       "      <th>total_bill</th>\n",
       "      <th>tip</th>\n",
       "      <th>sex</th>\n",
       "      <th>smoker</th>\n",
       "      <th>day</th>\n",
       "      <th>time</th>\n",
       "      <th>size</th>\n",
       "    </tr>\n",
       "  </thead>\n",
       "  <tbody>\n",
       "    <tr>\n",
       "      <th>0</th>\n",
       "      <td>16.99</td>\n",
       "      <td>1.01</td>\n",
       "      <td>Female</td>\n",
       "      <td>No</td>\n",
       "      <td>Sun</td>\n",
       "      <td>Dinner</td>\n",
       "      <td>2</td>\n",
       "    </tr>\n",
       "    <tr>\n",
       "      <th>1</th>\n",
       "      <td>10.34</td>\n",
       "      <td>1.66</td>\n",
       "      <td>Male</td>\n",
       "      <td>No</td>\n",
       "      <td>Sun</td>\n",
       "      <td>Dinner</td>\n",
       "      <td>3</td>\n",
       "    </tr>\n",
       "    <tr>\n",
       "      <th>2</th>\n",
       "      <td>21.01</td>\n",
       "      <td>3.50</td>\n",
       "      <td>Male</td>\n",
       "      <td>No</td>\n",
       "      <td>Sun</td>\n",
       "      <td>Dinner</td>\n",
       "      <td>3</td>\n",
       "    </tr>\n",
       "    <tr>\n",
       "      <th>3</th>\n",
       "      <td>23.68</td>\n",
       "      <td>3.31</td>\n",
       "      <td>Male</td>\n",
       "      <td>No</td>\n",
       "      <td>Sun</td>\n",
       "      <td>Dinner</td>\n",
       "      <td>2</td>\n",
       "    </tr>\n",
       "    <tr>\n",
       "      <th>4</th>\n",
       "      <td>24.59</td>\n",
       "      <td>3.61</td>\n",
       "      <td>Female</td>\n",
       "      <td>No</td>\n",
       "      <td>Sun</td>\n",
       "      <td>Dinner</td>\n",
       "      <td>4</td>\n",
       "    </tr>\n",
       "  </tbody>\n",
       "</table>\n",
       "</div>"
      ],
      "text/plain": [
       "   total_bill   tip     sex smoker  day    time  size\n",
       "0       16.99  1.01  Female     No  Sun  Dinner     2\n",
       "1       10.34  1.66    Male     No  Sun  Dinner     3\n",
       "2       21.01  3.50    Male     No  Sun  Dinner     3\n",
       "3       23.68  3.31    Male     No  Sun  Dinner     2\n",
       "4       24.59  3.61  Female     No  Sun  Dinner     4"
      ]
     },
     "execution_count": 31,
     "metadata": {},
     "output_type": "execute_result"
    }
   ],
   "source": [
    "df = pd.read_csv(\"./tips.csv\")\n",
    "df.head()"
   ]
  },
  {
   "cell_type": "code",
   "execution_count": 32,
   "metadata": {},
   "outputs": [
    {
     "data": {
      "text/html": [
       "<div>\n",
       "<style scoped>\n",
       "    .dataframe tbody tr th:only-of-type {\n",
       "        vertical-align: middle;\n",
       "    }\n",
       "\n",
       "    .dataframe tbody tr th {\n",
       "        vertical-align: top;\n",
       "    }\n",
       "\n",
       "    .dataframe thead th {\n",
       "        text-align: right;\n",
       "    }\n",
       "</style>\n",
       "<table border=\"1\" class=\"dataframe\">\n",
       "  <thead>\n",
       "    <tr style=\"text-align: right;\">\n",
       "      <th></th>\n",
       "      <th>total_bill</th>\n",
       "      <th>tip</th>\n",
       "      <th>size</th>\n",
       "      <th>sex_Female</th>\n",
       "      <th>sex_Male</th>\n",
       "      <th>smoker_No</th>\n",
       "      <th>smoker_Yes</th>\n",
       "      <th>day_Fri</th>\n",
       "      <th>day_Sat</th>\n",
       "      <th>day_Sun</th>\n",
       "      <th>day_Thur</th>\n",
       "      <th>time_Dinner</th>\n",
       "      <th>time_Lunch</th>\n",
       "    </tr>\n",
       "  </thead>\n",
       "  <tbody>\n",
       "    <tr>\n",
       "      <th>0</th>\n",
       "      <td>-0.314066</td>\n",
       "      <td>-1.436993</td>\n",
       "      <td>-0.598961</td>\n",
       "      <td>1.340598</td>\n",
       "      <td>-1.340598</td>\n",
       "      <td>0.783179</td>\n",
       "      <td>-0.783179</td>\n",
       "      <td>-0.289997</td>\n",
       "      <td>-0.742879</td>\n",
       "      <td>1.483734</td>\n",
       "      <td>-0.582463</td>\n",
       "      <td>0.620307</td>\n",
       "      <td>-0.620307</td>\n",
       "    </tr>\n",
       "    <tr>\n",
       "      <th>1</th>\n",
       "      <td>-1.061054</td>\n",
       "      <td>-0.967217</td>\n",
       "      <td>0.452453</td>\n",
       "      <td>-0.742879</td>\n",
       "      <td>0.742879</td>\n",
       "      <td>0.783179</td>\n",
       "      <td>-0.783179</td>\n",
       "      <td>-0.289997</td>\n",
       "      <td>-0.742879</td>\n",
       "      <td>1.483734</td>\n",
       "      <td>-0.582463</td>\n",
       "      <td>0.620307</td>\n",
       "      <td>-0.620307</td>\n",
       "    </tr>\n",
       "    <tr>\n",
       "      <th>2</th>\n",
       "      <td>0.137497</td>\n",
       "      <td>0.362610</td>\n",
       "      <td>0.452453</td>\n",
       "      <td>-0.742879</td>\n",
       "      <td>0.742879</td>\n",
       "      <td>0.783179</td>\n",
       "      <td>-0.783179</td>\n",
       "      <td>-0.289997</td>\n",
       "      <td>-0.742879</td>\n",
       "      <td>1.483734</td>\n",
       "      <td>-0.582463</td>\n",
       "      <td>0.620307</td>\n",
       "      <td>-0.620307</td>\n",
       "    </tr>\n",
       "    <tr>\n",
       "      <th>3</th>\n",
       "      <td>0.437416</td>\n",
       "      <td>0.225291</td>\n",
       "      <td>-0.598961</td>\n",
       "      <td>-0.742879</td>\n",
       "      <td>0.742879</td>\n",
       "      <td>0.783179</td>\n",
       "      <td>-0.783179</td>\n",
       "      <td>-0.289997</td>\n",
       "      <td>-0.742879</td>\n",
       "      <td>1.483734</td>\n",
       "      <td>-0.582463</td>\n",
       "      <td>0.620307</td>\n",
       "      <td>-0.620307</td>\n",
       "    </tr>\n",
       "    <tr>\n",
       "      <th>4</th>\n",
       "      <td>0.539635</td>\n",
       "      <td>0.442111</td>\n",
       "      <td>1.503867</td>\n",
       "      <td>1.340598</td>\n",
       "      <td>-1.340598</td>\n",
       "      <td>0.783179</td>\n",
       "      <td>-0.783179</td>\n",
       "      <td>-0.289997</td>\n",
       "      <td>-0.742879</td>\n",
       "      <td>1.483734</td>\n",
       "      <td>-0.582463</td>\n",
       "      <td>0.620307</td>\n",
       "      <td>-0.620307</td>\n",
       "    </tr>\n",
       "  </tbody>\n",
       "</table>\n",
       "</div>"
      ],
      "text/plain": [
       "   total_bill       tip      size  sex_Female  sex_Male  smoker_No  \\\n",
       "0   -0.314066 -1.436993 -0.598961    1.340598 -1.340598   0.783179   \n",
       "1   -1.061054 -0.967217  0.452453   -0.742879  0.742879   0.783179   \n",
       "2    0.137497  0.362610  0.452453   -0.742879  0.742879   0.783179   \n",
       "3    0.437416  0.225291 -0.598961   -0.742879  0.742879   0.783179   \n",
       "4    0.539635  0.442111  1.503867    1.340598 -1.340598   0.783179   \n",
       "\n",
       "   smoker_Yes   day_Fri   day_Sat   day_Sun  day_Thur  time_Dinner  time_Lunch  \n",
       "0   -0.783179 -0.289997 -0.742879  1.483734 -0.582463     0.620307   -0.620307  \n",
       "1   -0.783179 -0.289997 -0.742879  1.483734 -0.582463     0.620307   -0.620307  \n",
       "2   -0.783179 -0.289997 -0.742879  1.483734 -0.582463     0.620307   -0.620307  \n",
       "3   -0.783179 -0.289997 -0.742879  1.483734 -0.582463     0.620307   -0.620307  \n",
       "4   -0.783179 -0.289997 -0.742879  1.483734 -0.582463     0.620307   -0.620307  "
      ]
     },
     "execution_count": 32,
     "metadata": {},
     "output_type": "execute_result"
    }
   ],
   "source": [
    "target = df.tip\n",
    "features = df.drop('tip',axis=1)\n",
    "features = pd.get_dummies(df)\n",
    "features = (features - features.mean()) / features.std()\n",
    "features.head()"
   ]
  },
  {
   "cell_type": "code",
   "execution_count": 33,
   "metadata": {},
   "outputs": [
    {
     "name": "stdout",
     "output_type": "stream",
     "text": [
      "\n",
      "parameters =  {'C': 100.0} validation R2 =  0.896\n"
     ]
    },
    {
     "name": "stderr",
     "output_type": "stream",
     "text": [
      "C:\\Users\\rileyma\\Anaconda3\\lib\\site-packages\\sklearn\\model_selection\\_search.py:841: DeprecationWarning: The default of the `iid` parameter will change from True to False in version 0.22 and will be removed in 0.24. This will change numeric results when test-set sizes are unequal.\n",
      "  DeprecationWarning)\n"
     ]
    }
   ],
   "source": [
    "grid = {'C': np.linspace(100,400,10)}\n",
    "\n",
    "clf = SVR()\n",
    "clfCV = GridSearchCV(clf,param_grid=grid,return_train_score=True,n_jobs=-1)\n",
    "clfCV.fit(features,target)\n",
    "\n",
    "print()\n",
    "print('parameters = ', clfCV.best_params_, 'validation R2 = ', clfCV.best_score_.round(3))"
   ]
  },
  {
   "cell_type": "code",
   "execution_count": 34,
   "metadata": {},
   "outputs": [
    {
     "data": {
      "text/html": [
       "<div>\n",
       "<style scoped>\n",
       "    .dataframe tbody tr th:only-of-type {\n",
       "        vertical-align: middle;\n",
       "    }\n",
       "\n",
       "    .dataframe tbody tr th {\n",
       "        vertical-align: top;\n",
       "    }\n",
       "\n",
       "    .dataframe thead th {\n",
       "        text-align: right;\n",
       "    }\n",
       "</style>\n",
       "<table border=\"1\" class=\"dataframe\">\n",
       "  <thead>\n",
       "    <tr style=\"text-align: right;\">\n",
       "      <th></th>\n",
       "      <th>total_bill</th>\n",
       "      <th>tip</th>\n",
       "      <th>size</th>\n",
       "      <th>sex_Female</th>\n",
       "      <th>sex_Male</th>\n",
       "      <th>smoker_No</th>\n",
       "      <th>smoker_Yes</th>\n",
       "      <th>day_Fri</th>\n",
       "      <th>day_Sat</th>\n",
       "      <th>day_Sun</th>\n",
       "      <th>day_Thur</th>\n",
       "      <th>time_Dinner</th>\n",
       "      <th>time_Lunch</th>\n",
       "    </tr>\n",
       "  </thead>\n",
       "  <tbody>\n",
       "    <tr>\n",
       "      <th>0</th>\n",
       "      <td>-0.314066</td>\n",
       "      <td>-1.436993</td>\n",
       "      <td>-0.598961</td>\n",
       "      <td>1.340598</td>\n",
       "      <td>-1.340598</td>\n",
       "      <td>0.783179</td>\n",
       "      <td>-0.783179</td>\n",
       "      <td>-0.289997</td>\n",
       "      <td>-0.742879</td>\n",
       "      <td>1.483734</td>\n",
       "      <td>-0.582463</td>\n",
       "      <td>0.620307</td>\n",
       "      <td>-0.620307</td>\n",
       "    </tr>\n",
       "    <tr>\n",
       "      <th>1</th>\n",
       "      <td>-1.061054</td>\n",
       "      <td>-0.967217</td>\n",
       "      <td>0.452453</td>\n",
       "      <td>-0.742879</td>\n",
       "      <td>0.742879</td>\n",
       "      <td>0.783179</td>\n",
       "      <td>-0.783179</td>\n",
       "      <td>-0.289997</td>\n",
       "      <td>-0.742879</td>\n",
       "      <td>1.483734</td>\n",
       "      <td>-0.582463</td>\n",
       "      <td>0.620307</td>\n",
       "      <td>-0.620307</td>\n",
       "    </tr>\n",
       "    <tr>\n",
       "      <th>2</th>\n",
       "      <td>0.137497</td>\n",
       "      <td>0.362610</td>\n",
       "      <td>0.452453</td>\n",
       "      <td>-0.742879</td>\n",
       "      <td>0.742879</td>\n",
       "      <td>0.783179</td>\n",
       "      <td>-0.783179</td>\n",
       "      <td>-0.289997</td>\n",
       "      <td>-0.742879</td>\n",
       "      <td>1.483734</td>\n",
       "      <td>-0.582463</td>\n",
       "      <td>0.620307</td>\n",
       "      <td>-0.620307</td>\n",
       "    </tr>\n",
       "    <tr>\n",
       "      <th>3</th>\n",
       "      <td>0.437416</td>\n",
       "      <td>0.225291</td>\n",
       "      <td>-0.598961</td>\n",
       "      <td>-0.742879</td>\n",
       "      <td>0.742879</td>\n",
       "      <td>0.783179</td>\n",
       "      <td>-0.783179</td>\n",
       "      <td>-0.289997</td>\n",
       "      <td>-0.742879</td>\n",
       "      <td>1.483734</td>\n",
       "      <td>-0.582463</td>\n",
       "      <td>0.620307</td>\n",
       "      <td>-0.620307</td>\n",
       "    </tr>\n",
       "    <tr>\n",
       "      <th>4</th>\n",
       "      <td>0.539635</td>\n",
       "      <td>0.442111</td>\n",
       "      <td>1.503867</td>\n",
       "      <td>1.340598</td>\n",
       "      <td>-1.340598</td>\n",
       "      <td>0.783179</td>\n",
       "      <td>-0.783179</td>\n",
       "      <td>-0.289997</td>\n",
       "      <td>-0.742879</td>\n",
       "      <td>1.483734</td>\n",
       "      <td>-0.582463</td>\n",
       "      <td>0.620307</td>\n",
       "      <td>-0.620307</td>\n",
       "    </tr>\n",
       "  </tbody>\n",
       "</table>\n",
       "</div>"
      ],
      "text/plain": [
       "   total_bill       tip      size  sex_Female  sex_Male  smoker_No  \\\n",
       "0   -0.314066 -1.436993 -0.598961    1.340598 -1.340598   0.783179   \n",
       "1   -1.061054 -0.967217  0.452453   -0.742879  0.742879   0.783179   \n",
       "2    0.137497  0.362610  0.452453   -0.742879  0.742879   0.783179   \n",
       "3    0.437416  0.225291 -0.598961   -0.742879  0.742879   0.783179   \n",
       "4    0.539635  0.442111  1.503867    1.340598 -1.340598   0.783179   \n",
       "\n",
       "   smoker_Yes   day_Fri   day_Sat   day_Sun  day_Thur  time_Dinner  time_Lunch  \n",
       "0   -0.783179 -0.289997 -0.742879  1.483734 -0.582463     0.620307   -0.620307  \n",
       "1   -0.783179 -0.289997 -0.742879  1.483734 -0.582463     0.620307   -0.620307  \n",
       "2   -0.783179 -0.289997 -0.742879  1.483734 -0.582463     0.620307   -0.620307  \n",
       "3   -0.783179 -0.289997 -0.742879  1.483734 -0.582463     0.620307   -0.620307  \n",
       "4   -0.783179 -0.289997 -0.742879  1.483734 -0.582463     0.620307   -0.620307  "
      ]
     },
     "execution_count": 34,
     "metadata": {},
     "output_type": "execute_result"
    }
   ],
   "source": [
    "target = df.tip\n",
    "features = df.drop('tip',axis=1)\n",
    "features = pd.get_dummies(df)\n",
    "features = (features - features.mean()) / features.std()\n",
    "features.head()"
   ]
  },
  {
   "cell_type": "code",
   "execution_count": 35,
   "metadata": {},
   "outputs": [
    {
     "name": "stdout",
     "output_type": "stream",
     "text": [
      "\n",
      "parameters =  {'C': 10} validation R2 =  0.896\n",
      "training R2 =  0.997\n"
     ]
    },
    {
     "name": "stderr",
     "output_type": "stream",
     "text": [
      "C:\\Users\\rileyma\\Anaconda3\\lib\\site-packages\\sklearn\\model_selection\\_search.py:841: DeprecationWarning: The default of the `iid` parameter will change from True to False in version 0.22 and will be removed in 0.24. This will change numeric results when test-set sizes are unequal.\n",
      "  DeprecationWarning)\n"
     ]
    }
   ],
   "source": [
    "grid = {'C': [0.01,0.1,1,10,100,1000,10000]}\n",
    "\n",
    "clf = SVR()\n",
    "clfCV = GridSearchCV(clf,param_grid=grid,return_train_score=True,n_jobs=-1)\n",
    "clfCV.fit(features,target)\n",
    "\n",
    "print()\n",
    "print('parameters = ', clfCV.best_params_, 'validation R2 = ', clfCV.best_score_.round(3))\n",
    "print('training R2 = ', clfCV.best_estimator_.score(features,target).round(3))"
   ]
  },
  {
   "cell_type": "markdown",
   "metadata": {},
   "source": [
    "# PCA isn't a classifier, just a tool for analysis"
   ]
  },
  {
   "cell_type": "markdown",
   "metadata": {},
   "source": [
    "- Look at PCA Auto Lesson (Lesson 23)"
   ]
  },
  {
   "cell_type": "code",
   "execution_count": null,
   "metadata": {},
   "outputs": [],
   "source": []
  }
 ],
 "metadata": {
  "kernelspec": {
   "display_name": "Python 3",
   "language": "python",
   "name": "python3"
  },
  "language_info": {
   "codemirror_mode": {
    "name": "ipython",
    "version": 3
   },
   "file_extension": ".py",
   "mimetype": "text/x-python",
   "name": "python",
   "nbconvert_exporter": "python",
   "pygments_lexer": "ipython3",
   "version": "3.7.3"
  }
 },
 "nbformat": 4,
 "nbformat_minor": 2
}
