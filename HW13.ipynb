{
 "cells": [
  {
   "cell_type": "code",
   "execution_count": 1,
   "metadata": {},
   "outputs": [],
   "source": [
    "import pandas as pd\n",
    "import numpy as np\n",
    "from sklearn.model_selection import cross_validate, GridSearchCV\n",
    "from sklearn.tree import DecisionTreeRegressor, export_graphviz\n",
    "from sklearn.neighbors import KNeighborsClassifier\n",
    "from sklearn.linear_model import LogisticRegression\n",
    "from sklearn.preprocessing import LabelEncoder\n",
    "from sklearn.metrics import mean_squared_error, r2_score\n",
    "from sklearn.ensemble import BaggingRegressor, RandomForestRegressor, GradientBoostingRegressor\n",
    "import matplotlib.pyplot as plt\n",
    "import graphviz\n",
    "%matplotlib inline"
   ]
  },
  {
   "cell_type": "markdown",
   "metadata": {},
   "source": [
    "# Problem 1"
   ]
  },
  {
   "cell_type": "code",
   "execution_count": 2,
   "metadata": {},
   "outputs": [],
   "source": [
    "df_train = pd.read_csv(\"./Concrete_train.csv\")"
   ]
  },
  {
   "cell_type": "code",
   "execution_count": 3,
   "metadata": {},
   "outputs": [],
   "source": [
    "df_test = pd.read_csv(\"./Concrete_test.csv\")"
   ]
  },
  {
   "cell_type": "markdown",
   "metadata": {},
   "source": [
    "## (A)"
   ]
  },
  {
   "cell_type": "code",
   "execution_count": 4,
   "metadata": {},
   "outputs": [
    {
     "data": {
      "text/html": [
       "<div>\n",
       "<style scoped>\n",
       "    .dataframe tbody tr th:only-of-type {\n",
       "        vertical-align: middle;\n",
       "    }\n",
       "\n",
       "    .dataframe tbody tr th {\n",
       "        vertical-align: top;\n",
       "    }\n",
       "\n",
       "    .dataframe thead th {\n",
       "        text-align: right;\n",
       "    }\n",
       "</style>\n",
       "<table border=\"1\" class=\"dataframe\">\n",
       "  <thead>\n",
       "    <tr style=\"text-align: right;\">\n",
       "      <th></th>\n",
       "      <th>Cement (component 1)(kg in a m^3 mixture)</th>\n",
       "      <th>Blast Furnace Slag (component 2)(kg in a m^3 mixture)</th>\n",
       "      <th>Fly Ash (component 3)(kg in a m^3 mixture)</th>\n",
       "      <th>Water  (component 4)(kg in a m^3 mixture)</th>\n",
       "      <th>Superplasticizer (component 5)(kg in a m^3 mixture)</th>\n",
       "      <th>Coarse Aggregate  (component 6)(kg in a m^3 mixture)</th>\n",
       "      <th>Fine Aggregate (component 7)(kg in a m^3 mixture)</th>\n",
       "      <th>Age (day)</th>\n",
       "    </tr>\n",
       "  </thead>\n",
       "  <tbody>\n",
       "    <tr>\n",
       "      <th>0</th>\n",
       "      <td>233.81</td>\n",
       "      <td>0.0</td>\n",
       "      <td>94.58</td>\n",
       "      <td>197.89</td>\n",
       "      <td>4.567</td>\n",
       "      <td>947.04</td>\n",
       "      <td>852.16</td>\n",
       "      <td>28</td>\n",
       "    </tr>\n",
       "    <tr>\n",
       "      <th>1</th>\n",
       "      <td>251.81</td>\n",
       "      <td>0.0</td>\n",
       "      <td>99.94</td>\n",
       "      <td>146.14</td>\n",
       "      <td>12.350</td>\n",
       "      <td>1006.00</td>\n",
       "      <td>899.76</td>\n",
       "      <td>56</td>\n",
       "    </tr>\n",
       "    <tr>\n",
       "      <th>2</th>\n",
       "      <td>252.00</td>\n",
       "      <td>0.0</td>\n",
       "      <td>0.00</td>\n",
       "      <td>186.00</td>\n",
       "      <td>0.000</td>\n",
       "      <td>1111.00</td>\n",
       "      <td>784.00</td>\n",
       "      <td>7</td>\n",
       "    </tr>\n",
       "    <tr>\n",
       "      <th>3</th>\n",
       "      <td>325.60</td>\n",
       "      <td>166.4</td>\n",
       "      <td>0.00</td>\n",
       "      <td>174.00</td>\n",
       "      <td>8.900</td>\n",
       "      <td>881.60</td>\n",
       "      <td>790.00</td>\n",
       "      <td>28</td>\n",
       "    </tr>\n",
       "    <tr>\n",
       "      <th>4</th>\n",
       "      <td>250.00</td>\n",
       "      <td>0.0</td>\n",
       "      <td>95.69</td>\n",
       "      <td>191.84</td>\n",
       "      <td>5.330</td>\n",
       "      <td>948.90</td>\n",
       "      <td>857.20</td>\n",
       "      <td>14</td>\n",
       "    </tr>\n",
       "  </tbody>\n",
       "</table>\n",
       "</div>"
      ],
      "text/plain": [
       "   Cement (component 1)(kg in a m^3 mixture)  \\\n",
       "0                                     233.81   \n",
       "1                                     251.81   \n",
       "2                                     252.00   \n",
       "3                                     325.60   \n",
       "4                                     250.00   \n",
       "\n",
       "   Blast Furnace Slag (component 2)(kg in a m^3 mixture)  \\\n",
       "0                                                0.0       \n",
       "1                                                0.0       \n",
       "2                                                0.0       \n",
       "3                                              166.4       \n",
       "4                                                0.0       \n",
       "\n",
       "   Fly Ash (component 3)(kg in a m^3 mixture)  \\\n",
       "0                                       94.58   \n",
       "1                                       99.94   \n",
       "2                                        0.00   \n",
       "3                                        0.00   \n",
       "4                                       95.69   \n",
       "\n",
       "   Water  (component 4)(kg in a m^3 mixture)  \\\n",
       "0                                     197.89   \n",
       "1                                     146.14   \n",
       "2                                     186.00   \n",
       "3                                     174.00   \n",
       "4                                     191.84   \n",
       "\n",
       "   Superplasticizer (component 5)(kg in a m^3 mixture)  \\\n",
       "0                                              4.567     \n",
       "1                                             12.350     \n",
       "2                                              0.000     \n",
       "3                                              8.900     \n",
       "4                                              5.330     \n",
       "\n",
       "   Coarse Aggregate  (component 6)(kg in a m^3 mixture)  \\\n",
       "0                                             947.04      \n",
       "1                                            1006.00      \n",
       "2                                            1111.00      \n",
       "3                                             881.60      \n",
       "4                                             948.90      \n",
       "\n",
       "   Fine Aggregate (component 7)(kg in a m^3 mixture)  Age (day)  \n",
       "0                                             852.16         28  \n",
       "1                                             899.76         56  \n",
       "2                                             784.00          7  \n",
       "3                                             790.00         28  \n",
       "4                                             857.20         14  "
      ]
     },
     "execution_count": 4,
     "metadata": {},
     "output_type": "execute_result"
    }
   ],
   "source": [
    "features_train = df_train.drop(df_train.columns[-1], axis=1)\n",
    "features_test = df_test.drop(df_test.columns[-1],axis=1)\n",
    "features_train.head()"
   ]
  },
  {
   "cell_type": "code",
   "execution_count": 5,
   "metadata": {},
   "outputs": [
    {
     "data": {
      "text/html": [
       "<div>\n",
       "<style scoped>\n",
       "    .dataframe tbody tr th:only-of-type {\n",
       "        vertical-align: middle;\n",
       "    }\n",
       "\n",
       "    .dataframe tbody tr th {\n",
       "        vertical-align: top;\n",
       "    }\n",
       "\n",
       "    .dataframe thead th {\n",
       "        text-align: right;\n",
       "    }\n",
       "</style>\n",
       "<table border=\"1\" class=\"dataframe\">\n",
       "  <thead>\n",
       "    <tr style=\"text-align: right;\">\n",
       "      <th></th>\n",
       "      <th>Cement (component 1)(kg in a m^3 mixture)</th>\n",
       "      <th>Blast Furnace Slag (component 2)(kg in a m^3 mixture)</th>\n",
       "      <th>Fly Ash (component 3)(kg in a m^3 mixture)</th>\n",
       "      <th>Water  (component 4)(kg in a m^3 mixture)</th>\n",
       "      <th>Superplasticizer (component 5)(kg in a m^3 mixture)</th>\n",
       "      <th>Coarse Aggregate  (component 6)(kg in a m^3 mixture)</th>\n",
       "      <th>Fine Aggregate (component 7)(kg in a m^3 mixture)</th>\n",
       "      <th>Age (day)</th>\n",
       "    </tr>\n",
       "  </thead>\n",
       "  <tbody>\n",
       "    <tr>\n",
       "      <th>0</th>\n",
       "      <td>236.00</td>\n",
       "      <td>0.0</td>\n",
       "      <td>0.00</td>\n",
       "      <td>193.00</td>\n",
       "      <td>0.00</td>\n",
       "      <td>968.00</td>\n",
       "      <td>885.0</td>\n",
       "      <td>7</td>\n",
       "    </tr>\n",
       "    <tr>\n",
       "      <th>1</th>\n",
       "      <td>288.00</td>\n",
       "      <td>121.0</td>\n",
       "      <td>0.00</td>\n",
       "      <td>177.00</td>\n",
       "      <td>7.00</td>\n",
       "      <td>908.00</td>\n",
       "      <td>829.0</td>\n",
       "      <td>28</td>\n",
       "    </tr>\n",
       "    <tr>\n",
       "      <th>2</th>\n",
       "      <td>290.35</td>\n",
       "      <td>0.0</td>\n",
       "      <td>96.18</td>\n",
       "      <td>168.08</td>\n",
       "      <td>9.41</td>\n",
       "      <td>961.18</td>\n",
       "      <td>865.0</td>\n",
       "      <td>14</td>\n",
       "    </tr>\n",
       "    <tr>\n",
       "      <th>3</th>\n",
       "      <td>302.00</td>\n",
       "      <td>0.0</td>\n",
       "      <td>0.00</td>\n",
       "      <td>203.00</td>\n",
       "      <td>0.00</td>\n",
       "      <td>974.00</td>\n",
       "      <td>817.0</td>\n",
       "      <td>28</td>\n",
       "    </tr>\n",
       "    <tr>\n",
       "      <th>4</th>\n",
       "      <td>262.00</td>\n",
       "      <td>111.0</td>\n",
       "      <td>86.00</td>\n",
       "      <td>195.00</td>\n",
       "      <td>5.00</td>\n",
       "      <td>895.00</td>\n",
       "      <td>733.0</td>\n",
       "      <td>28</td>\n",
       "    </tr>\n",
       "  </tbody>\n",
       "</table>\n",
       "</div>"
      ],
      "text/plain": [
       "   Cement (component 1)(kg in a m^3 mixture)  \\\n",
       "0                                     236.00   \n",
       "1                                     288.00   \n",
       "2                                     290.35   \n",
       "3                                     302.00   \n",
       "4                                     262.00   \n",
       "\n",
       "   Blast Furnace Slag (component 2)(kg in a m^3 mixture)  \\\n",
       "0                                                0.0       \n",
       "1                                              121.0       \n",
       "2                                                0.0       \n",
       "3                                                0.0       \n",
       "4                                              111.0       \n",
       "\n",
       "   Fly Ash (component 3)(kg in a m^3 mixture)  \\\n",
       "0                                        0.00   \n",
       "1                                        0.00   \n",
       "2                                       96.18   \n",
       "3                                        0.00   \n",
       "4                                       86.00   \n",
       "\n",
       "   Water  (component 4)(kg in a m^3 mixture)  \\\n",
       "0                                     193.00   \n",
       "1                                     177.00   \n",
       "2                                     168.08   \n",
       "3                                     203.00   \n",
       "4                                     195.00   \n",
       "\n",
       "   Superplasticizer (component 5)(kg in a m^3 mixture)  \\\n",
       "0                                               0.00     \n",
       "1                                               7.00     \n",
       "2                                               9.41     \n",
       "3                                               0.00     \n",
       "4                                               5.00     \n",
       "\n",
       "   Coarse Aggregate  (component 6)(kg in a m^3 mixture)  \\\n",
       "0                                             968.00      \n",
       "1                                             908.00      \n",
       "2                                             961.18      \n",
       "3                                             974.00      \n",
       "4                                             895.00      \n",
       "\n",
       "   Fine Aggregate (component 7)(kg in a m^3 mixture)  Age (day)  \n",
       "0                                              885.0          7  \n",
       "1                                              829.0         28  \n",
       "2                                              865.0         14  \n",
       "3                                              817.0         28  \n",
       "4                                              733.0         28  "
      ]
     },
     "execution_count": 5,
     "metadata": {},
     "output_type": "execute_result"
    }
   ],
   "source": [
    "features_test.head()"
   ]
  },
  {
   "cell_type": "code",
   "execution_count": 6,
   "metadata": {},
   "outputs": [],
   "source": [
    "target_train = df_train.iloc[:,-1]\n",
    "target_test = df_test.iloc[:,-1]"
   ]
  },
  {
   "cell_type": "code",
   "execution_count": 10,
   "metadata": {},
   "outputs": [],
   "source": [
    "grid = {'n_estimators':[100,500,2500],'max_depth': np.arange(1,30)}\n",
    "rtree = RandomForestRegressor(n_jobs=-1)"
   ]
  },
  {
   "cell_type": "code",
   "execution_count": 11,
   "metadata": {},
   "outputs": [
    {
     "name": "stdout",
     "output_type": "stream",
     "text": [
      "\n",
      "optimal depth=  {'max_depth': 23, 'n_estimators': 100} validation R2=  0.884\n"
     ]
    }
   ],
   "source": [
    "rtreeCV = GridSearchCV(rtree,param_grid=grid,return_train_score=True)\n",
    "rtreeCV.fit(features_train,target_train)\n",
    "print()\n",
    "print('optimal depth= ', rtreeCV.best_params_, 'validation R2= ', rtreeCV.best_score_.round(3))"
   ]
  },
  {
   "cell_type": "markdown",
   "metadata": {},
   "source": [
    "## (B)"
   ]
  },
  {
   "cell_type": "code",
   "execution_count": 26,
   "metadata": {},
   "outputs": [
    {
     "name": "stderr",
     "output_type": "stream",
     "text": [
      "C:\\Users\\rileyma\\Anaconda3\\lib\\site-packages\\sklearn\\model_selection\\_split.py:2053: FutureWarning: You should specify a value for 'cv' instead of relying on the default value. The default value will change from 3 to 5 in version 0.22.\n",
      "  warnings.warn(CV_WARNING, FutureWarning)\n"
     ]
    },
    {
     "name": "stdout",
     "output_type": "stream",
     "text": [
      "optimal depth=  {'max_depth': 23, 'n_estimators': 100} validation R2=  0.884\n"
     ]
    }
   ],
   "source": [
    "grid = {'learning_rate':[0.1,0.01,0.001],'n_estimators':[100,500,2500],'max_depth':np.arange(1,30)}\n",
    "gbt = GradientBoostingRegressor()\n",
    "gbtCV = GridSearchCV(gbt,param_grid=grid,n_jobs=-1)\n",
    "gbtCV.fit(features_train,target_train)\n",
    "print('optimal depth= ', rtreeCV.best_params_, 'validation R2= ', rtreeCV.best_score_.round(3))"
   ]
  },
  {
   "cell_type": "markdown",
   "metadata": {},
   "source": [
    "## (C)"
   ]
  },
  {
   "cell_type": "code",
   "execution_count": 28,
   "metadata": {},
   "outputs": [
    {
     "name": "stdout",
     "output_type": "stream",
     "text": [
      "FORESTS    train R2 = 0.982   test R2 = 0.889\n",
      "GBT        train R2 = 0.995   test R2 = 0.906\n"
     ]
    }
   ],
   "source": [
    "rf_opt = rtreeCV.best_estimator_\n",
    "R2_train = rf_opt.score(features_train,target_train)\n",
    "R2_test  = rf_opt.score(features_test,target_test)\n",
    "print('FORESTS    train R2 =',R2_train.round(3),'  test R2 =',R2_test.round(3))\n",
    "gbt = gbtCV.best_estimator_\n",
    "R2_train = gbt.score(features_train,target_train)\n",
    "R2_test  = gbt.score(features_test,target_test)\n",
    "print('GBT        train R2 =',R2_train.round(3),'  test R2 =',R2_test.round(3))"
   ]
  },
  {
   "cell_type": "markdown",
   "metadata": {},
   "source": [
    "- The GBT is more accurate, shown by the better train and test R2 scores\n",
    "- The Forests takes longer, as it doesn't have a learning rate to speed things up\n",
    "- GBT, as it does the learning for us"
   ]
  },
  {
   "cell_type": "code",
   "execution_count": null,
   "metadata": {},
   "outputs": [],
   "source": []
  }
 ],
 "metadata": {
  "kernelspec": {
   "display_name": "Python 3",
   "language": "python",
   "name": "python3"
  },
  "language_info": {
   "codemirror_mode": {
    "name": "ipython",
    "version": 3
   },
   "file_extension": ".py",
   "mimetype": "text/x-python",
   "name": "python",
   "nbconvert_exporter": "python",
   "pygments_lexer": "ipython3",
   "version": "3.7.3"
  }
 },
 "nbformat": 4,
 "nbformat_minor": 2
}
