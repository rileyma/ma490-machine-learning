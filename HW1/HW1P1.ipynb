{
 "cells": [
  {
   "cell_type": "code",
   "execution_count": 3,
   "metadata": {},
   "outputs": [],
   "source": [
    "import pandas as pd"
   ]
  },
  {
   "cell_type": "code",
   "execution_count": 4,
   "metadata": {},
   "outputs": [],
   "source": [
    "df = pd.read_csv('./Towed_Vehicles.csv')"
   ]
  },
  {
   "cell_type": "code",
   "execution_count": 5,
   "metadata": {},
   "outputs": [
    {
     "data": {
      "text/html": [
       "<div>\n",
       "<style scoped>\n",
       "    .dataframe tbody tr th:only-of-type {\n",
       "        vertical-align: middle;\n",
       "    }\n",
       "\n",
       "    .dataframe tbody tr th {\n",
       "        vertical-align: top;\n",
       "    }\n",
       "\n",
       "    .dataframe thead th {\n",
       "        text-align: right;\n",
       "    }\n",
       "</style>\n",
       "<table border=\"1\" class=\"dataframe\">\n",
       "  <thead>\n",
       "    <tr style=\"text-align: right;\">\n",
       "      <th></th>\n",
       "      <th>Tow Date</th>\n",
       "      <th>Make</th>\n",
       "      <th>Style</th>\n",
       "      <th>Model</th>\n",
       "      <th>Color</th>\n",
       "      <th>Plate</th>\n",
       "      <th>State</th>\n",
       "      <th>Towed to Address</th>\n",
       "      <th>Tow Facility Phone</th>\n",
       "      <th>Inventory Number</th>\n",
       "    </tr>\n",
       "  </thead>\n",
       "  <tbody>\n",
       "    <tr>\n",
       "      <th>0</th>\n",
       "      <td>12/03/2015</td>\n",
       "      <td>ACUR</td>\n",
       "      <td>4D</td>\n",
       "      <td>NaN</td>\n",
       "      <td>WHI</td>\n",
       "      <td>Y753941</td>\n",
       "      <td>IL</td>\n",
       "      <td>701 N. Sacramento</td>\n",
       "      <td>(773) 265-7605</td>\n",
       "      <td>6833043</td>\n",
       "    </tr>\n",
       "    <tr>\n",
       "      <th>1</th>\n",
       "      <td>12/03/2015</td>\n",
       "      <td>ACUR</td>\n",
       "      <td>4D</td>\n",
       "      <td>NaN</td>\n",
       "      <td>SIL</td>\n",
       "      <td>3266735</td>\n",
       "      <td>IL</td>\n",
       "      <td>701 N. Sacramento</td>\n",
       "      <td>(773) 265-7605</td>\n",
       "      <td>6833025</td>\n",
       "    </tr>\n",
       "    <tr>\n",
       "      <th>2</th>\n",
       "      <td>12/03/2015</td>\n",
       "      <td>ACUR</td>\n",
       "      <td>4D</td>\n",
       "      <td>NaN</td>\n",
       "      <td>GRY</td>\n",
       "      <td>A421860</td>\n",
       "      <td>IL</td>\n",
       "      <td>701 N. Sacramento</td>\n",
       "      <td>(773) 265-7605</td>\n",
       "      <td>6833027</td>\n",
       "    </tr>\n",
       "    <tr>\n",
       "      <th>3</th>\n",
       "      <td>12/03/2015</td>\n",
       "      <td>ACUR</td>\n",
       "      <td>4D</td>\n",
       "      <td>NaN</td>\n",
       "      <td>GRY</td>\n",
       "      <td>K511765</td>\n",
       "      <td>IL</td>\n",
       "      <td>701 N. Sacramento</td>\n",
       "      <td>(773) 265-7605</td>\n",
       "      <td>6833019</td>\n",
       "    </tr>\n",
       "    <tr>\n",
       "      <th>4</th>\n",
       "      <td>12/03/2015</td>\n",
       "      <td>ACUR</td>\n",
       "      <td>4D</td>\n",
       "      <td>NaN</td>\n",
       "      <td>BLK</td>\n",
       "      <td>4647389</td>\n",
       "      <td>IL</td>\n",
       "      <td>701 N. Sacramento</td>\n",
       "      <td>(773) 265-7605</td>\n",
       "      <td>6832991</td>\n",
       "    </tr>\n",
       "  </tbody>\n",
       "</table>\n",
       "</div>"
      ],
      "text/plain": [
       "     Tow Date  Make Style Model Color    Plate State   Towed to Address  \\\n",
       "0  12/03/2015  ACUR    4D   NaN   WHI  Y753941    IL  701 N. Sacramento   \n",
       "1  12/03/2015  ACUR    4D   NaN   SIL  3266735    IL  701 N. Sacramento   \n",
       "2  12/03/2015  ACUR    4D   NaN   GRY  A421860    IL  701 N. Sacramento   \n",
       "3  12/03/2015  ACUR    4D   NaN   GRY  K511765    IL  701 N. Sacramento   \n",
       "4  12/03/2015  ACUR    4D   NaN   BLK  4647389    IL  701 N. Sacramento   \n",
       "\n",
       "  Tow Facility Phone Inventory Number  \n",
       "0     (773) 265-7605          6833043  \n",
       "1     (773) 265-7605          6833025  \n",
       "2     (773) 265-7605          6833027  \n",
       "3     (773) 265-7605          6833019  \n",
       "4     (773) 265-7605          6832991  "
      ]
     },
     "execution_count": 5,
     "metadata": {},
     "output_type": "execute_result"
    }
   ],
   "source": [
    "df.head()"
   ]
  },
  {
   "cell_type": "markdown",
   "metadata": {},
   "source": [
    "## (A) In which states are most of the twoed vehicles registered? Explain why you think this is the case."
   ]
  },
  {
   "cell_type": "code",
   "execution_count": 6,
   "metadata": {},
   "outputs": [
    {
     "data": {
      "text/plain": [
       "IL    4389\n",
       "IN     109\n",
       "WI      39\n",
       "MN      21\n",
       "MI      18\n",
       "Name: State, dtype: int64"
      ]
     },
     "execution_count": 6,
     "metadata": {},
     "output_type": "execute_result"
    }
   ],
   "source": [
    "df.State.value_counts().head()"
   ]
  },
  {
   "cell_type": "markdown",
   "metadata": {},
   "source": [
    "ANS: Illinois. This is because the data set is *Towed Vehicles in Chicago*, and Chicago is in Illinois."
   ]
  },
  {
   "cell_type": "markdown",
   "metadata": {},
   "source": [
    "## (B) Which vehicle(s) were towed the most during the period 9/04/2015 to 12/03/2015? List the license plates of these vehicles."
   ]
  },
  {
   "cell_type": "code",
   "execution_count": 7,
   "metadata": {},
   "outputs": [],
   "source": [
    "dfb = df[['Tow Date', 'Make', 'Plate']].dropna().sort_values(by=['Tow Date'])"
   ]
  },
  {
   "cell_type": "code",
   "execution_count": 8,
   "metadata": {},
   "outputs": [
    {
     "data": {
      "text/html": [
       "<div>\n",
       "<style scoped>\n",
       "    .dataframe tbody tr th:only-of-type {\n",
       "        vertical-align: middle;\n",
       "    }\n",
       "\n",
       "    .dataframe tbody tr th {\n",
       "        vertical-align: top;\n",
       "    }\n",
       "\n",
       "    .dataframe thead th {\n",
       "        text-align: right;\n",
       "    }\n",
       "</style>\n",
       "<table border=\"1\" class=\"dataframe\">\n",
       "  <thead>\n",
       "    <tr style=\"text-align: right;\">\n",
       "      <th></th>\n",
       "      <th>Tow Date</th>\n",
       "      <th>Make</th>\n",
       "      <th>Plate</th>\n",
       "    </tr>\n",
       "  </thead>\n",
       "  <tbody>\n",
       "    <tr>\n",
       "      <th>4773</th>\n",
       "      <td>09/04/2015</td>\n",
       "      <td>NISS</td>\n",
       "      <td>V775294</td>\n",
       "    </tr>\n",
       "    <tr>\n",
       "      <th>4768</th>\n",
       "      <td>09/04/2015</td>\n",
       "      <td>BUIC</td>\n",
       "      <td>P649382</td>\n",
       "    </tr>\n",
       "    <tr>\n",
       "      <th>4769</th>\n",
       "      <td>09/04/2015</td>\n",
       "      <td>CHEV</td>\n",
       "      <td>CJB4773</td>\n",
       "    </tr>\n",
       "    <tr>\n",
       "      <th>4772</th>\n",
       "      <td>09/04/2015</td>\n",
       "      <td>DODG</td>\n",
       "      <td>E702122</td>\n",
       "    </tr>\n",
       "    <tr>\n",
       "      <th>4771</th>\n",
       "      <td>09/04/2015</td>\n",
       "      <td>CHEV</td>\n",
       "      <td>Y729586</td>\n",
       "    </tr>\n",
       "  </tbody>\n",
       "</table>\n",
       "</div>"
      ],
      "text/plain": [
       "        Tow Date  Make    Plate\n",
       "4773  09/04/2015  NISS  V775294\n",
       "4768  09/04/2015  BUIC  P649382\n",
       "4769  09/04/2015  CHEV  CJB4773\n",
       "4772  09/04/2015  DODG  E702122\n",
       "4771  09/04/2015  CHEV  Y729586"
      ]
     },
     "execution_count": 8,
     "metadata": {},
     "output_type": "execute_result"
    }
   ],
   "source": [
    "dfb.head()"
   ]
  },
  {
   "cell_type": "code",
   "execution_count": 9,
   "metadata": {},
   "outputs": [],
   "source": [
    "dfbp = dfb.Plate.value_counts().head(7)"
   ]
  },
  {
   "cell_type": "markdown",
   "metadata": {},
   "source": [
    "ANS:"
   ]
  },
  {
   "cell_type": "code",
   "execution_count": 10,
   "metadata": {},
   "outputs": [
    {
     "name": "stdout",
     "output_type": "stream",
     "text": [
      "Y765088\n",
      "S954418\n",
      "L851112\n",
      "E437592\n",
      "1448764B\n",
      "S890142\n",
      "E313465\n"
     ]
    }
   ],
   "source": [
    "for plate in dfbp.index:\n",
    "    print(plate)"
   ]
  },
  {
   "cell_type": "code",
   "execution_count": null,
   "metadata": {},
   "outputs": [],
   "source": []
  }
 ],
 "metadata": {
  "kernelspec": {
   "display_name": "Python 3",
   "language": "python",
   "name": "python3"
  },
  "language_info": {
   "codemirror_mode": {
    "name": "ipython",
    "version": 3
   },
   "file_extension": ".py",
   "mimetype": "text/x-python",
   "name": "python",
   "nbconvert_exporter": "python",
   "pygments_lexer": "ipython3",
   "version": "3.7.1"
  }
 },
 "nbformat": 4,
 "nbformat_minor": 2
}
