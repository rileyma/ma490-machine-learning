{
 "cells": [
  {
   "cell_type": "code",
   "execution_count": 1,
   "metadata": {},
   "outputs": [],
   "source": [
    "import numpy as np\n",
    "import pandas as pd\n",
    "from sklearn.svm import SVR\n",
    "from sklearn.ensemble import RandomForestRegressor, GradientBoostingRegressor\n",
    "from sklearn.linear_model import Ridge, Lasso, RidgeCV, LassoCV\n",
    "import matplotlib.pyplot as plt\n",
    "from sklearn.model_selection import GridSearchCV\n",
    "%matplotlib inline"
   ]
  },
  {
   "cell_type": "code",
   "execution_count": null,
   "metadata": {},
   "outputs": [],
   "source": [
    "df = pd.read_csv('./')\n",
    "\n",
    "#df = pd.get_dummies(df)\n",
    "print(df.shape)\n",
    "df.head()"
   ]
  },
  {
   "cell_type": "markdown",
   "metadata": {},
   "source": [
    "# SVM"
   ]
  },
  {
   "cell_type": "code",
   "execution_count": null,
   "metadata": {},
   "outputs": [],
   "source": [
    "grid = {'C':[0.01,0.1,1,10,100,1000,10000]}\n",
    "\n",
    "clf = SVR()\n",
    "clfCV = GridSearchCV(clf,param_grid=grid,return_train_score=True,n_jobs=-1)\n",
    "clfCV.fit(features,target)\n",
    "\n",
    "print()\n",
    "print('parameters =', clfCV.best_params_ , 'validation R2=', clfCV.best_score_.round(3) )\n",
    "print('training R2= ' ,clfCV.best_estimator_.score(features,target).round(3))"
   ]
  },
  {
   "cell_type": "markdown",
   "metadata": {},
   "source": [
    "# Random Forests"
   ]
  },
  {
   "cell_type": "code",
   "execution_count": null,
   "metadata": {},
   "outputs": [],
   "source": [
    "grid1 = {'n_estimators': np.arange(10,1000,100)}\n",
    "\n",
    "clf = RandomForestRegressor()\n",
    "clfCV = GridSearchCV(clf,param_grid=grid1,return_train_score=True,n_jobs=-1)\n",
    "clfCV.fit(features,target)\n",
    "\n",
    "print()\n",
    "print('optimal number of trees =', clfCV.best_params_ , 'validation R2=', clfCV.best_score_.round(3) )\n",
    "print('training R2= ' ,clfCV.best_estimator_.score(features,target).round(3))"
   ]
  },
  {
   "cell_type": "markdown",
   "metadata": {},
   "source": [
    "# Gradient Boosting"
   ]
  },
  {
   "cell_type": "code",
   "execution_count": null,
   "metadata": {},
   "outputs": [],
   "source": [
    "grid = {'n_estimators': np.arange(10,200,10),'max_depth':np.arange(1,10), 'learning_rate':np.arange(0.1,1,0.25)}\n",
    "\n",
    "gbt = GradientBoostingRegressor()\n",
    "gbtCV = GridSearchCV(gbt,param_grid=grid,return_train_score=True,n_jobs=-1)\n",
    "gbtCV.fit(features,target)\n",
    "\n",
    "print()\n",
    "print('optimal number of trees =', gbtCV.best_params_ , 'validation R2=', gbtCV.best_score_.round(3) )"
   ]
  },
  {
   "cell_type": "markdown",
   "metadata": {},
   "source": [
    "# Ridge Regression"
   ]
  },
  {
   "cell_type": "code",
   "execution_count": null,
   "metadata": {},
   "outputs": [],
   "source": [
    "grid = {'alpha': [0.001,0.01,0.1,1,10,100,1000,10000,100000]}\n",
    "ridge = Ridge()\n",
    "ridgeCV = GridSearchCV(ridge,param_grid=grid, return_train_score=True)\n",
    "ridgeCV.fit(features,target)\n",
    "\n",
    "print()\n",
    "print('best alpha =' , ridgeCV.best_params_ , '   test R2', ridgeCV.best_score_)\n",
    "\n",
    "performance = pd.DataFrame()\n",
    "performance['alpha'] = np.log10(grid['alpha'])\n",
    "performance['train R2'] = ridgeCV.cv_results_['mean_train_score']\n",
    "performance['test R2'] = ridgeCV.cv_results_['mean_test_score']\n",
    "\n",
    "ax1 = performance.plot.line(x='alpha',y='train R2')\n",
    "performance.plot.line(x='alpha', y ='test R2', ax =ax1)\n",
    "\n",
    "ridge = ridgeCV.best_estimator_\n",
    "coef = pd.Series(ridge.coef_,index=features.columns)\n",
    "coef.sort_values()"
   ]
  },
  {
   "cell_type": "markdown",
   "metadata": {},
   "source": [
    "# Lasso Regression"
   ]
  },
  {
   "cell_type": "code",
   "execution_count": null,
   "metadata": {},
   "outputs": [],
   "source": [
    "grid = {'alpha': [0.001,0.01,0.1,1,10,100,1000,10000]}\n",
    "lasso = Lasso()\n",
    "lassoCV = GridSearchCV(lasso,param_grid=grid, return_train_score=True)\n",
    "lassoCV.fit(features,target)\n",
    "\n",
    "print()\n",
    "print('best alpha =' , lassoCV.best_params_ , '   test R2', lassoCV.best_score_)\n",
    "\n",
    "performance = pd.DataFrame()\n",
    "performance['alpha'] = np.log10(grid['alpha'])\n",
    "performance['train R2'] = lassoCV.cv_results_['mean_train_score']\n",
    "performance['test R2'] = lassoCV.cv_results_['mean_test_score']\n",
    "\n",
    "ax1 = performance.plot.line(x='alpha',y='train R2')\n",
    "performance.plot.line(x='alpha', y ='test R2', ax =ax1)\n",
    "\n",
    "lasso = lassoCV.best_estimator_\n",
    "coef = pd.Series(lasso.coef_,index=features.columns)\n",
    "coef.sort_values()"
   ]
  }
 ],
 "metadata": {
  "kernelspec": {
   "display_name": "Python 3",
   "language": "python",
   "name": "python3"
  },
  "language_info": {
   "codemirror_mode": {
    "name": "ipython",
    "version": 3
   },
   "file_extension": ".py",
   "mimetype": "text/x-python",
   "name": "python",
   "nbconvert_exporter": "python",
   "pygments_lexer": "ipython3",
   "version": "3.7.3"
  }
 },
 "nbformat": 4,
 "nbformat_minor": 2
}
