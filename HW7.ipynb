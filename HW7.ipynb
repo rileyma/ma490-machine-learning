{
 "cells": [
  {
   "cell_type": "code",
   "execution_count": 1,
   "metadata": {},
   "outputs": [],
   "source": [
    "import numpy as np\n",
    "import pandas as pd\n",
    "from sklearn.model_selection import cross_validate\n",
    "from sklearn.linear_model import LinearRegression\n",
    "from sklearn.preprocessing import PolynomialFeatures\n",
    "from sklearn.neighbors import KNeighborsRegressor\n",
    "from seaborn import regplot\n",
    "import matplotlib.pyplot as plt\n",
    "%matplotlib inline"
   ]
  },
  {
   "cell_type": "markdown",
   "metadata": {},
   "source": [
    "# VIDEO\n",
    "## (A)\n",
    "### Of the estimated 11 million software engineers world wide, how many are estimated to be machine learning engineers?"
   ]
  },
  {
   "cell_type": "markdown",
   "metadata": {},
   "source": [
    "##### Around 20 to 30 thousand engineers."
   ]
  },
  {
   "cell_type": "markdown",
   "metadata": {},
   "source": [
    "## (B)\n",
    "### Arhsak Navruzyan states that machine learning is interdisciplinary. Describe three of the seven areas that machine learning experts should have a background in."
   ]
  },
  {
   "cell_type": "markdown",
   "metadata": {},
   "source": [
    "##### Machine Learning Theory, Bayesian Statistics, and Coding."
   ]
  },
  {
   "cell_type": "markdown",
   "metadata": {},
   "source": [
    "## (C) \n",
    "### As a rough summary of which machine learning algorithms to apply, Arshak Navruzyan states that for structured data (e.g. data that comes in csv files), ensemble of decision trees works best. What does he say is recommended for unstructured data (e.g. natural language)?"
   ]
  },
  {
   "cell_type": "markdown",
   "metadata": {},
   "source": [
    "##### Deep Learning"
   ]
  },
  {
   "cell_type": "markdown",
   "metadata": {},
   "source": [
    "# PROBLEM 1 (Curse of Dimensionality)\n",
    "#### p 168 #4abcd"
   ]
  },
  {
   "cell_type": "markdown",
   "metadata": {},
   "source": [
    "## (A)\n",
    "##### 10%"
   ]
  },
  {
   "cell_type": "markdown",
   "metadata": {},
   "source": [
    "## (B) \n",
    "##### 1%"
   ]
  },
  {
   "cell_type": "markdown",
   "metadata": {},
   "source": [
    "## (C)\n",
    "##### 0.1^(100)"
   ]
  },
  {
   "cell_type": "markdown",
   "metadata": {},
   "source": [
    "# PROBLEM 2 (Logistic Regression for MNIST)\n",
    "## (A)\n",
    "### Use logistic regression to predict the digit corresponding to each image in the test set. What are the train and test error rates? Do you believe logistic regression is over-fitting or under-fitting the training data set? Explain."
   ]
  },
  {
   "cell_type": "code",
   "execution_count": 3,
   "metadata": {},
   "outputs": [
    {
     "name": "stdout",
     "output_type": "stream",
     "text": [
      "0\n"
     ]
    },
    {
     "data": {
      "image/png": "[encoded data removed]",
      "text/plain": [
       "<Figure size 432x288 with 1 Axes>"
      ]
     },
     "metadata": {
      "needs_background": "light"
     },
     "output_type": "display_data"
    }
   ],
   "source": [
    "MNIST_train = np.load('./MNIST_train_40000.npz')\n",
    "MNIST_test  = np.load('./MNIST_test_10000.npz')\n",
    "\n",
    "ix = 5001\n",
    "images_train = MNIST_train['train_images']\n",
    "images_test  = MNIST_test['test_images']\n",
    "labels_train = MNIST_train['train_labels']\n",
    "labels_test  = MNIST_test['test_labels']\n",
    "plt.imshow(images_train[ix,:,:],cmap='Greys_r')\n",
    "print(labels_train[ix])"
   ]
  },
  {
   "cell_type": "code",
   "execution_count": 4,
   "metadata": {},
   "outputs": [],
   "source": [
    "features_train = images_train.reshape(40000,28*28)\n",
    "features_test  = images_test.reshape(10000,28*28)"
   ]
  },
  {
   "cell_type": "code",
   "execution_count": 6,
   "metadata": {},
   "outputs": [],
   "source": [
    "from sklearn.linear_model import LogisticRegression\n",
    "lgr = LogisticRegression(solver='lbfgs',n_jobs=-1)"
   ]
  },
  {
   "cell_type": "code",
   "execution_count": 8,
   "metadata": {},
   "outputs": [
    {
     "name": "stderr",
     "output_type": "stream",
     "text": [
      "C:\\Users\\micha\\Anaconda3\\lib\\site-packages\\sklearn\\linear_model\\logistic.py:460: FutureWarning: Default multi_class will be changed to 'auto' in 0.22. Specify the multi_class option to silence this warning.\n",
      "  \"this warning.\", FutureWarning)\n"
     ]
    },
    {
     "name": "stdout",
     "output_type": "stream",
     "text": [
      "\n",
      "  training time (min): 1.0\n",
      "\n",
      "prediction time (min): 0.0\n",
      "\n",
      "training error rate 0.07   testing error rate 0.09\n"
     ]
    }
   ],
   "source": [
    "from time import time as time\n",
    "time_start = time()\n",
    "lgr.fit(features_train,labels_train)\n",
    "time_stop  = time()\n",
    "time_elapsed = (time_stop - time_start)/60\n",
    "print()\n",
    "print('  training time (min):',round(time_elapsed,1))\n",
    "\n",
    "time_start = time()\n",
    "error_train = 1 - lgr.score(features_train,labels_train)\n",
    "error_test  = 1 - lgr.score(features_test,labels_test)\n",
    "time_stop  = time()\n",
    "time_elapsed = (time_stop - time_start)/60\n",
    "print()\n",
    "print('prediction time (min):',round(time_elapsed,1))\n",
    "print()\n",
    "print('training error rate',error_train.round(2),'  testing error rate',error_test.round(2))"
   ]
  },
  {
   "cell_type": "markdown",
   "metadata": {},
   "source": [
    "##### The test error rate is not bad. Having a higher test error rate than the training error rate is to be expected. This my indicate overfitting, but is inconclusive."
   ]
  },
  {
   "cell_type": "markdown",
   "metadata": {},
   "source": [
    "## (B)\n",
    "### Create a confusion matrix for the test set. Which digits are confused with each other the most?"
   ]
  },
  {
   "cell_type": "code",
   "execution_count": 10,
   "metadata": {},
   "outputs": [
    {
     "data": {
      "text/html": [
       "<div>\n",
       "<style scoped>\n",
       "    .dataframe tbody tr th:only-of-type {\n",
       "        vertical-align: middle;\n",
       "    }\n",
       "\n",
       "    .dataframe tbody tr th {\n",
       "        vertical-align: top;\n",
       "    }\n",
       "\n",
       "    .dataframe thead th {\n",
       "        text-align: right;\n",
       "    }\n",
       "</style>\n",
       "<table border=\"1\" class=\"dataframe\">\n",
       "  <thead>\n",
       "    <tr style=\"text-align: right;\">\n",
       "      <th></th>\n",
       "      <th>0</th>\n",
       "      <th>1</th>\n",
       "      <th>2</th>\n",
       "      <th>3</th>\n",
       "      <th>4</th>\n",
       "      <th>5</th>\n",
       "      <th>6</th>\n",
       "      <th>7</th>\n",
       "      <th>8</th>\n",
       "      <th>9</th>\n",
       "      <th>total</th>\n",
       "    </tr>\n",
       "  </thead>\n",
       "  <tbody>\n",
       "    <tr>\n",
       "      <th>0</th>\n",
       "      <td>941</td>\n",
       "      <td>0</td>\n",
       "      <td>5</td>\n",
       "      <td>4</td>\n",
       "      <td>2</td>\n",
       "      <td>8</td>\n",
       "      <td>8</td>\n",
       "      <td>3</td>\n",
       "      <td>5</td>\n",
       "      <td>0</td>\n",
       "      <td>976</td>\n",
       "    </tr>\n",
       "    <tr>\n",
       "      <th>1</th>\n",
       "      <td>0</td>\n",
       "      <td>1089</td>\n",
       "      <td>7</td>\n",
       "      <td>3</td>\n",
       "      <td>0</td>\n",
       "      <td>4</td>\n",
       "      <td>2</td>\n",
       "      <td>1</td>\n",
       "      <td>8</td>\n",
       "      <td>1</td>\n",
       "      <td>1115</td>\n",
       "    </tr>\n",
       "    <tr>\n",
       "      <th>2</th>\n",
       "      <td>9</td>\n",
       "      <td>9</td>\n",
       "      <td>921</td>\n",
       "      <td>17</td>\n",
       "      <td>17</td>\n",
       "      <td>8</td>\n",
       "      <td>7</td>\n",
       "      <td>9</td>\n",
       "      <td>20</td>\n",
       "      <td>1</td>\n",
       "      <td>1018</td>\n",
       "    </tr>\n",
       "    <tr>\n",
       "      <th>3</th>\n",
       "      <td>6</td>\n",
       "      <td>4</td>\n",
       "      <td>21</td>\n",
       "      <td>916</td>\n",
       "      <td>0</td>\n",
       "      <td>30</td>\n",
       "      <td>5</td>\n",
       "      <td>11</td>\n",
       "      <td>13</td>\n",
       "      <td>7</td>\n",
       "      <td>1013</td>\n",
       "    </tr>\n",
       "    <tr>\n",
       "      <th>4</th>\n",
       "      <td>3</td>\n",
       "      <td>3</td>\n",
       "      <td>9</td>\n",
       "      <td>0</td>\n",
       "      <td>874</td>\n",
       "      <td>2</td>\n",
       "      <td>8</td>\n",
       "      <td>2</td>\n",
       "      <td>7</td>\n",
       "      <td>32</td>\n",
       "      <td>940</td>\n",
       "    </tr>\n",
       "    <tr>\n",
       "      <th>5</th>\n",
       "      <td>11</td>\n",
       "      <td>6</td>\n",
       "      <td>8</td>\n",
       "      <td>39</td>\n",
       "      <td>7</td>\n",
       "      <td>779</td>\n",
       "      <td>26</td>\n",
       "      <td>4</td>\n",
       "      <td>29</td>\n",
       "      <td>8</td>\n",
       "      <td>917</td>\n",
       "    </tr>\n",
       "    <tr>\n",
       "      <th>6</th>\n",
       "      <td>10</td>\n",
       "      <td>6</td>\n",
       "      <td>10</td>\n",
       "      <td>1</td>\n",
       "      <td>4</td>\n",
       "      <td>18</td>\n",
       "      <td>953</td>\n",
       "      <td>1</td>\n",
       "      <td>7</td>\n",
       "      <td>0</td>\n",
       "      <td>1010</td>\n",
       "    </tr>\n",
       "    <tr>\n",
       "      <th>7</th>\n",
       "      <td>4</td>\n",
       "      <td>8</td>\n",
       "      <td>14</td>\n",
       "      <td>2</td>\n",
       "      <td>5</td>\n",
       "      <td>2</td>\n",
       "      <td>2</td>\n",
       "      <td>960</td>\n",
       "      <td>5</td>\n",
       "      <td>36</td>\n",
       "      <td>1038</td>\n",
       "    </tr>\n",
       "    <tr>\n",
       "      <th>8</th>\n",
       "      <td>8</td>\n",
       "      <td>26</td>\n",
       "      <td>13</td>\n",
       "      <td>25</td>\n",
       "      <td>10</td>\n",
       "      <td>31</td>\n",
       "      <td>11</td>\n",
       "      <td>8</td>\n",
       "      <td>839</td>\n",
       "      <td>17</td>\n",
       "      <td>988</td>\n",
       "    </tr>\n",
       "    <tr>\n",
       "      <th>9</th>\n",
       "      <td>7</td>\n",
       "      <td>6</td>\n",
       "      <td>3</td>\n",
       "      <td>18</td>\n",
       "      <td>38</td>\n",
       "      <td>6</td>\n",
       "      <td>1</td>\n",
       "      <td>32</td>\n",
       "      <td>11</td>\n",
       "      <td>863</td>\n",
       "      <td>985</td>\n",
       "    </tr>\n",
       "  </tbody>\n",
       "</table>\n",
       "</div>"
      ],
      "text/plain": [
       "     0     1    2    3    4    5    6    7    8    9  total\n",
       "0  941     0    5    4    2    8    8    3    5    0    976\n",
       "1    0  1089    7    3    0    4    2    1    8    1   1115\n",
       "2    9     9  921   17   17    8    7    9   20    1   1018\n",
       "3    6     4   21  916    0   30    5   11   13    7   1013\n",
       "4    3     3    9    0  874    2    8    2    7   32    940\n",
       "5   11     6    8   39    7  779   26    4   29    8    917\n",
       "6   10     6   10    1    4   18  953    1    7    0   1010\n",
       "7    4     8   14    2    5    2    2  960    5   36   1038\n",
       "8    8    26   13   25   10   31   11    8  839   17    988\n",
       "9    7     6    3   18   38    6    1   32   11  863    985"
      ]
     },
     "execution_count": 10,
     "metadata": {},
     "output_type": "execute_result"
    }
   ],
   "source": [
    "from sklearn.metrics import confusion_matrix\n",
    "labels_predicted = lgr.predict(features_test)\n",
    "M = confusion_matrix(labels_test,labels_predicted)\n",
    "ConfusionMatrix = pd.DataFrame(M)\n",
    "ConfusionMatrix['total'] = ConfusionMatrix.sum(axis=1)\n",
    "ConfusionMatrix"
   ]
  },
  {
   "cell_type": "markdown",
   "metadata": {},
   "source": [
    "##### 2 is confused with 8, 3 is confused with 2 and 5, 4 is confused with 9, 5 is confused with 3, 6, and 8. 9 is confused with 7 and 4"
   ]
  },
  {
   "cell_type": "markdown",
   "metadata": {},
   "source": [
    "## (C)\n",
    "### Use the confusion matrix to compute, for the digit 9, the test prediction:\n",
    "#### (i) precision\n",
    "#### (ii) recall\n",
    "#### (iii) F-1 score"
   ]
  },
  {
   "cell_type": "code",
   "execution_count": 11,
   "metadata": {},
   "outputs": [
    {
     "name": "stdout",
     "output_type": "stream",
     "text": [
      "precision 0.89\n",
      "recall    0.88\n",
      "F-1 score 0.89\n"
     ]
    }
   ],
   "source": [
    "precision = 863/(1+1+7+32+8+0+36+17+863)\n",
    "recall = 863/985\n",
    "F1_score = 2/(1/precision + 1/recall)\n",
    "print('precision',round(precision,2))\n",
    "print('recall   ',round(recall,2))\n",
    "print('F-1 score',round(F1_score,2))"
   ]
  },
  {
   "cell_type": "code",
   "execution_count": 13,
   "metadata": {},
   "outputs": [
    {
     "name": "stdout",
     "output_type": "stream",
     "text": [
      "              precision    recall  f1-score   support\n",
      "\n",
      "           0       0.94      0.96      0.95       976\n",
      "           1       0.94      0.98      0.96      1115\n",
      "           2       0.91      0.90      0.91      1018\n",
      "           3       0.89      0.90      0.90      1013\n",
      "           4       0.91      0.93      0.92       940\n",
      "           5       0.88      0.85      0.86       917\n",
      "           6       0.93      0.94      0.94      1010\n",
      "           7       0.93      0.92      0.93      1038\n",
      "           8       0.89      0.85      0.87       988\n",
      "           9       0.89      0.88      0.89       985\n",
      "\n",
      "   micro avg       0.91      0.91      0.91     10000\n",
      "   macro avg       0.91      0.91      0.91     10000\n",
      "weighted avg       0.91      0.91      0.91     10000\n",
      "\n"
     ]
    }
   ],
   "source": [
    "from sklearn.metrics import classification_report\n",
    "print(classification_report(labels_test,labels_predicted))"
   ]
  },
  {
   "cell_type": "markdown",
   "metadata": {},
   "source": [
    "## (D)\n",
    "### How many records/observations are in the training set? What is the dimension of the feature space, i.e. how many features are there?"
   ]
  },
  {
   "cell_type": "code",
   "execution_count": 14,
   "metadata": {},
   "outputs": [
    {
     "data": {
      "text/plain": [
       "(40000, 784)"
      ]
     },
     "execution_count": 14,
     "metadata": {},
     "output_type": "execute_result"
    }
   ],
   "source": [
    "features_train.shape"
   ]
  },
  {
   "cell_type": "markdown",
   "metadata": {},
   "source": [
    "##### There are 40,000 features\n",
    "##### The dimension of the feature space is 784"
   ]
  },
  {
   "cell_type": "markdown",
   "metadata": {},
   "source": [
    "# PROBLEM 3 (KNN for MNIST)\n",
    "### Repeat probelm 2(a) except use a KNN classifier (takes *a while* to run)."
   ]
  },
  {
   "cell_type": "code",
   "execution_count": 16,
   "metadata": {},
   "outputs": [],
   "source": [
    "from sklearn.neighbors import KNeighborsClassifier\n",
    "knn = KNeighborsClassifier(n_jobs=-1)"
   ]
  },
  {
   "cell_type": "code",
   "execution_count": 17,
   "metadata": {},
   "outputs": [
    {
     "name": "stdout",
     "output_type": "stream",
     "text": [
      "\n",
      "  training time (min): 0.2\n",
      "\n",
      "prediction time (min): 3.8\n",
      "\n",
      "training error rate 0.02   testing error rate 0.03\n"
     ]
    }
   ],
   "source": [
    "time_start = time()\n",
    "knn.fit(features_train,labels_train)\n",
    "time_stop  = time()\n",
    "time_elapsed = (time_stop - time_start)/60\n",
    "print()\n",
    "print('  training time (min):',round(time_elapsed,1))\n",
    "\n",
    "time_start = time()\n",
    "error_train = 1 - knn.score(features_train,labels_train)\n",
    "error_test  = 1 - knn.score(features_test,labels_test)\n",
    "time_stop  = time()\n",
    "time_elapsed = (time_stop - time_start)/60\n",
    "print()\n",
    "print('prediction time (min):',round(time_elapsed,1))\n",
    "print()\n",
    "print('training error rate',error_train.round(2),'  testing error rate',error_test.round(2))"
   ]
  },
  {
   "cell_type": "code",
   "execution_count": null,
   "metadata": {},
   "outputs": [],
   "source": []
  }
 ],
 "metadata": {
  "kernelspec": {
   "display_name": "Python 3",
   "language": "python",
   "name": "python3"
  },
  "language_info": {
   "codemirror_mode": {
    "name": "ipython",
    "version": 3
   },
   "file_extension": ".py",
   "mimetype": "text/x-python",
   "name": "python",
   "nbconvert_exporter": "python",
   "pygments_lexer": "ipython3",
   "version": "3.7.1"
  }
 },
 "nbformat": 4,
 "nbformat_minor": 2
}
